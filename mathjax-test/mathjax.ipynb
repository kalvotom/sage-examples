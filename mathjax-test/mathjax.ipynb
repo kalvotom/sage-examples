{
 "cells": [
  {
   "cell_type": "markdown",
   "metadata": {},
   "source": [
    "# LaTeX in Jupyter/IPython\n",
    "\n",
    "Inline equation: $x^2 + y^2 = z^2$.\n",
    "\n",
    "Equation:\n",
    "\n",
    "$$ \\sum_{k=1}^n q^k = \\begin{cases} n, & q = 1, \\\\ \\frac{1-q^n}{1-q}, & q \\neq 1 \\end{cases} $$"
   ]
  }
 ],
 "metadata": {
  "kernelspec": {
   "display_name": "Sage 6.7.beta4",
   "language": "",
   "name": "sage_6_7_beta4"
  },
  "language_info": {
   "codemirror_mode": {
    "name": "ipython",
    "version": 2
   },
   "file_extension": ".py",
   "mimetype": "text/x-python",
   "name": "python",
   "nbconvert_exporter": "python",
   "pygments_lexer": "ipython2",
   "version": "2.7.8"
  }
 },
 "nbformat": 4,
 "nbformat_minor": 0
}
