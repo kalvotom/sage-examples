{
 "cells": [
  {
   "cell_type": "markdown",
   "metadata": {},
   "source": [
    "# Sudoku\n",
    "*Tomáš Kalvoda, KAM FIT ČVUT, 2015, Notebook vytvořen pomocí Sage 6.6.rc2*"
   ]
  },
  {
   "cell_type": "markdown",
   "metadata": {},
   "source": [
    "## Sudoku v *Sage*\n",
    "\n",
    "Všichni jistě známe hlavolam Sudoku. *Sage* má funkce pro jejich zobrazování a řešení."
   ]
  },
  {
   "cell_type": "code",
   "execution_count": 2,
   "metadata": {
    "collapsed": false
   },
   "outputs": [
    {
     "name": "stdout",
     "output_type": "stream",
     "text": [
      "+-----+-----+-----+\n",
      "|4 5 1|  3  |     |\n",
      "|     |     |  7  |\n",
      "|     |9   1|4   8|\n",
      "+-----+-----+-----+\n",
      "|  1  |     |6   3|\n",
      "|  9  |  5  |  1  |\n",
      "|7   3|     |  8  |\n",
      "+-----+-----+-----+\n",
      "|5   9|7   4|     |\n",
      "|  2  |     |     |\n",
      "|     |  8  |1 9 5|\n",
      "+-----+-----+-----+\n"
     ]
    }
   ],
   "source": [
    "# konstruktoru lze předat i matici\n",
    "sudoku = Sudoku('451.3...........7....9.14.8.1....6.3.9..5..1.7.3....8.5.97.4....2...........8.195')\n",
    "print sudoku"
   ]
  },
  {
   "cell_type": "markdown",
   "metadata": {},
   "source": [
    "Sudoku nemusí mít jednoznačné řešení (pokud vůbec existuje). Nalezněme jedno z nich."
   ]
  },
  {
   "cell_type": "code",
   "execution_count": 3,
   "metadata": {
    "collapsed": false
   },
   "outputs": [
    {
     "name": "stdout",
     "output_type": "stream",
     "text": [
      "625 loops, best of 3: 1.36 ms per loop\n"
     ]
    }
   ],
   "source": [
    "timeit('next(sudoku.solve())')"
   ]
  },
  {
   "cell_type": "code",
   "execution_count": 4,
   "metadata": {
    "collapsed": false
   },
   "outputs": [
    {
     "name": "stdout",
     "output_type": "stream",
     "text": [
      "+-----+-----+-----+\n",
      "|4 5 1|8 3 7|9 6 2|\n",
      "|9 6 8|2 4 5|3 7 1|\n",
      "|2 3 7|9 6 1|4 5 8|\n",
      "+-----+-----+-----+\n",
      "|8 1 5|4 7 9|6 2 3|\n",
      "|6 9 2|3 5 8|7 1 4|\n",
      "|7 4 3|1 2 6|5 8 9|\n",
      "+-----+-----+-----+\n",
      "|5 8 9|7 1 4|2 3 6|\n",
      "|1 2 6|5 9 3|8 4 7|\n",
      "|3 7 4|6 8 2|1 9 5|\n",
      "+-----+-----+-----+\n"
     ]
    }
   ],
   "source": [
    "print next(sudoku.solve())"
   ]
  },
  {
   "cell_type": "markdown",
   "metadata": {},
   "source": [
    "## Řešení Sudoku pomocí lineárního programování\n",
    "\n",
    "Sudoku můžeme řešit i pomocí lienárního programování. Řešení Sudoku lze zformulovat jako úlohu lineárního programování."
   ]
  },
  {
   "cell_type": "code",
   "execution_count": 5,
   "metadata": {
    "collapsed": false,
    "scrolled": true
   },
   "outputs": [
    {
     "name": "stdout",
     "output_type": "stream",
     "text": [
      "[4 5 1 0 3 0 0 0 0]\n",
      "[0 0 0 0 0 0 0 7 0]\n",
      "[0 0 0 9 0 1 4 0 8]\n",
      "[0 1 0 0 0 0 6 0 3]\n",
      "[0 9 0 0 5 0 0 1 0]\n",
      "[7 0 3 0 0 0 0 8 0]\n",
      "[5 0 9 7 0 4 0 0 0]\n",
      "[0 2 0 0 0 0 0 0 0]\n",
      "[0 0 0 0 8 0 1 9 5]\n"
     ]
    }
   ],
   "source": [
    "# zadání\n",
    "mat = sudoku.to_matrix()\n",
    "print mat"
   ]
  },
  {
   "cell_type": "markdown",
   "metadata": {},
   "source": [
    "Sudoku je mřížka $9\\times 9$ čísel od $1$ do $9$. Podmínkou je, aby se v každém řádku, každém sloupci každém $3\\times 3$ bloku (viz výše) vyskytovalo každé z čísel $1$ až $9$ právě jednou. Abychom všechny tyto podmínky mohli formulovat, použijeme k popisu problému trojrozměrné pole (tenzor třetího řádu) $s_{i,j,k}$, $i,j,k = 1,2,\\ldots,9$. První dva indexy $i$ a $j$ určují polohu Sudoku tabulce a třetí index $k$ označuje cifru, která v příslušném políčku leží, v takovém případě klademe $s_{i,j,k} = 1$, jinak $0$.\n",
    "\n",
    "Nyní sestavme podmínky na správné řešení. Nejprve poznamenejme, že $s_{i,j,k} \\in \\{0,1\\}$ pro libovolné $i,j,k=1,2,\\ldots,9$.\n",
    " - Nejprve zafixujeme zadání, klademe\n",
    "   $$ s_{i,j,k} = 1 $$\n",
    "   kdykoliv na pozici $i,j$ zadání je cifra $k$.\n",
    " - V každém políčku je právě jedna cifra,\n",
    "   $$ \\sum_{k=1}^9 s_{i,j,k} = 1 $$\n",
    "   pro každé $i,j = 1,2,\\ldots, 9$.\n",
    " - V každém řádku se všechny cifry vyskytují právě jednou, tedy\n",
    "   $$ \\sum_{j=1}^9 s_{i,j,k} = 1 $$\n",
    "   pro každé $i,k=1,2,\\ldots,9$.\n",
    " - Stejným způsobem jako výše požadujeme, aby se v každém sloupci vyskytovala každá z cifer právě jednou.\n",
    " - V každém z $3 \\times 3$ bloku se každá cifra musí vyskytovat právě jednou:\n",
    "   $$ \\sum_{i=u}^{u+2} \\sum_{j=v}^{v+2} s_{i,j,k} = 1 $$\n",
    "   pro každé $k=1,2,\\ldots,9$ a $u,v = 1,4,7$.\n",
    "\n",
    "Objektivní funkci není potřeba specifikovat, pouze se snažíme zjistit, jestli výše uvedená sada podmínek má řešení."
   ]
  },
  {
   "cell_type": "code",
   "execution_count": 12,
   "metadata": {
    "collapsed": false
   },
   "outputs": [],
   "source": [
    "n = 9\n",
    "p = MixedIntegerLinearProgram(maximization=True)\n",
    "y = p.new_variable(binary=True)\n",
    "# objektivní funkce není potřeba\n",
    "#p.set_objective(sum([k*y[(i,j,k)] for i in range(n) for j in range(n) for k in range(1,n+1)]))\n",
    "\n",
    "# zadání\n",
    "for i,j in mrange([n,n]):\n",
    "    if mat[i,j] > 0: p.add_constraint(y[(i,j,mat[i,j])] == 1)\n",
    "\n",
    "# v každém políčku je právě jedna cifra\n",
    "for i,j in mrange([n,n]):\n",
    "    p.add_constraint(sum([y[(i,j,k)] for k in range(1,n+1)]) == 1)\n",
    "\n",
    "# v každém řádku se všechny cifry vyskytují právě jednou\n",
    "for i in range(n):\n",
    "    for k in range(1,n+1):\n",
    "        p.add_constraint(sum([y[(i,j,k)] for j in range(n)]) == 1)\n",
    "\n",
    "# v každém sloupci se všechny cifry vyskytují právě jednou\n",
    "for j in range(n):\n",
    "    for k in range(1,n+1):\n",
    "        p.add_constraint(sum([y[(i,j,k)] for i in range(n)]) == 1)\n",
    "\n",
    "# subarrays unique\n",
    "for k in [0,3,6]:\n",
    "    for l in [0,3,6]:\n",
    "        for u in range(1,n+1):\n",
    "            p.add_constraint(\n",
    "                sum([y[(i,j,u)] for i in range(k,k+3) for j in range(l,l+3)]) == 1\n",
    "            )"
   ]
  },
  {
   "cell_type": "markdown",
   "metadata": {},
   "source": [
    "Celkem máme následující počet podmínek:"
   ]
  },
  {
   "cell_type": "code",
   "execution_count": 13,
   "metadata": {
    "collapsed": false
   },
   "outputs": [
    {
     "data": {
      "text/plain": [
       "351"
      ]
     },
     "execution_count": 13,
     "metadata": {},
     "output_type": "execute_result"
    }
   ],
   "source": [
    "p.number_of_constraints()"
   ]
  },
  {
   "cell_type": "markdown",
   "metadata": {},
   "source": [
    "A následující počet proměnných."
   ]
  },
  {
   "cell_type": "code",
   "execution_count": 14,
   "metadata": {
    "collapsed": false
   },
   "outputs": [
    {
     "data": {
      "text/plain": [
       "729"
      ]
     },
     "execution_count": 14,
     "metadata": {},
     "output_type": "execute_result"
    }
   ],
   "source": [
    "p.number_of_variables()"
   ]
  },
  {
   "cell_type": "markdown",
   "metadata": {},
   "source": [
    "Nyní problém vyřešme!"
   ]
  },
  {
   "cell_type": "code",
   "execution_count": 15,
   "metadata": {
    "collapsed": false
   },
   "outputs": [
    {
     "name": "stdout",
     "output_type": "stream",
     "text": [
      "625 loops, best of 3: 793 µs per loop\n"
     ]
    }
   ],
   "source": [
    "timeit('p.solve()')"
   ]
  },
  {
   "cell_type": "markdown",
   "metadata": {},
   "source": [
    "Extrahujme matici s výsledky."
   ]
  },
  {
   "cell_type": "code",
   "execution_count": 16,
   "metadata": {
    "collapsed": true
   },
   "outputs": [],
   "source": [
    "out = matrix(ZZ,n,n)\n",
    "for i,j in mrange([n,n]):\n",
    "    for k in range(1,10):\n",
    "        if p.get_values(y[(i,j,k)]) == 1: out[i,j] = k"
   ]
  },
  {
   "cell_type": "markdown",
   "metadata": {},
   "source": [
    "A nechme si ji pěkně zobrazit."
   ]
  },
  {
   "cell_type": "code",
   "execution_count": 17,
   "metadata": {
    "collapsed": false
   },
   "outputs": [
    {
     "data": {
      "text/plain": [
       "+-----+-----+-----+\n",
       "|4 5 1|8 3 7|9 6 2|\n",
       "|9 6 8|2 4 5|3 7 1|\n",
       "|2 3 7|9 6 1|4 5 8|\n",
       "+-----+-----+-----+\n",
       "|8 1 5|4 7 9|6 2 3|\n",
       "|6 9 2|3 5 8|7 1 4|\n",
       "|7 4 3|1 2 6|5 8 9|\n",
       "+-----+-----+-----+\n",
       "|5 8 9|7 1 4|2 3 6|\n",
       "|1 2 6|5 9 3|8 4 7|\n",
       "|3 7 4|6 8 2|1 9 5|\n",
       "+-----+-----+-----+"
      ]
     },
     "execution_count": 17,
     "metadata": {},
     "output_type": "execute_result"
    }
   ],
   "source": [
    "Sudoku(out)"
   ]
  }
 ],
 "metadata": {
  "kernelspec": {
   "display_name": "Sage 6.6.rc2",
   "language": "",
   "name": "sage_6_6_rc2"
  },
  "language_info": {
   "codemirror_mode": {
    "name": "ipython",
    "version": 2
   },
   "file_extension": ".py",
   "mimetype": "text/x-python",
   "name": "python",
   "nbconvert_exporter": "python",
   "pygments_lexer": "ipython2",
   "version": "2.7.8"
  }
 },
 "nbformat": 4,
 "nbformat_minor": 0
}
