{
 "cells": [
  {
   "cell_type": "markdown",
   "metadata": {
    "deletable": true,
    "editable": true
   },
   "source": [
    "# Vlastnosti elementárních funkcí\n",
    "\n",
    "Klára Drhová, Tomáš Kalvoda 2014, 2017\n",
    "\n",
    "## Polynomy\n",
    "\n",
    "Polynomem nazýváme libovolnou funkci $f: \\mathbb{R}\\rightarrow\\mathbb{R}$ tvaru\n",
    "$$ f(x) = \\sum\\limits_{k=0}^n a_k x^k, \\quad x\\in\\mathbb{R} $$\n",
    "kde $n\\in\\mathbb{N}$ a $a_k\\in\\mathbb{R}$ pro $k=0,1,...,n$.\n",
    "Stupněm polynomu nazýváme největší index $k$ pro nějž $a_k \\neq 0$.\n",
    "Pokud žádný takový index neexistuje, tj. $f(x) = 0$ pro každé reálné $x$, pak o $f$ mluvíme jako o nulovém polynomu a jeho stupeň nedefinujeme.\n",
    "\n",
    "Zdůrazněme, že podle předchozího odstavce je \"polynom nulového stupně\" **nenulová** konstantní funkce.\n",
    "\n",
    "### Příklad:\n",
    "\n",
    "Pro $p(x) = 4x^3 - 2x + 5$ je $n = 3, a_3 = 4, a_2 = 0, a_1 = -2$ a $a_0 = 5$. Stupeň tohoto polynomu je $3$."
   ]
  },
  {
   "cell_type": "markdown",
   "metadata": {},
   "source": [
    "Polynomy s celočíselnými koeficienty v proměnné $x$:"
   ]
  },
  {
   "cell_type": "code",
   "execution_count": 3,
   "metadata": {
    "collapsed": false
   },
   "outputs": [
    {
     "data": {
      "text/plain": [
       "Univariate Polynomial Ring in x over Integer Ring"
      ]
     },
     "execution_count": 3,
     "metadata": {},
     "output_type": "execute_result"
    }
   ],
   "source": [
    "R.<x> = PolynomialRing(ZZ)\n",
    "R"
   ]
  },
  {
   "cell_type": "markdown",
   "metadata": {},
   "source": [
    "Polynom uvedený výše."
   ]
  },
  {
   "cell_type": "code",
   "execution_count": 4,
   "metadata": {
    "collapsed": true
   },
   "outputs": [],
   "source": [
    "p = 4*x^3 - 2*x + 5"
   ]
  },
  {
   "cell_type": "markdown",
   "metadata": {},
   "source": [
    "Vedle stupně máme k dispozici i další zajímavé metody (prozkoumejte)."
   ]
  },
  {
   "cell_type": "code",
   "execution_count": 55,
   "metadata": {
    "collapsed": false
   },
   "outputs": [
    {
     "data": {
      "text/plain": [
       "3"
      ]
     },
     "execution_count": 55,
     "metadata": {},
     "output_type": "execute_result"
    }
   ],
   "source": [
    "p.degree()"
   ]
  },
  {
   "cell_type": "markdown",
   "metadata": {},
   "source": [
    "### Grafy monomů ($x^k$)"
   ]
  },
  {
   "cell_type": "markdown",
   "metadata": {},
   "source": [
    "Interaktivní ukázka grafů monomů, tedy polynomů tvaru $x^k$."
   ]
  },
  {
   "cell_type": "code",
   "execution_count": 11,
   "metadata": {
    "collapsed": false,
    "deletable": true,
    "editable": true
   },
   "outputs": [
    {
     "data": {
      "application/vnd.jupyter.widget-view+json": {
       "model_id": "7b7f705f95514f34be657d49167da06f"
      }
     },
     "metadata": {},
     "output_type": "display_data"
    }
   ],
   "source": [
    "x = var('x')\n",
    "@interact\n",
    "def polynom(n = slider(range(0, 10), default = 1, label='$n$')):\n",
    "    p = plot(x^n, (x, -3, 3), axes_labels = ['$x$', \"$x^{}$\".format(n)],\n",
    "             figsize=5, gridlines=true)\n",
    "    p.show()"
   ]
  },
  {
   "cell_type": "markdown",
   "metadata": {
    "deletable": true,
    "editable": true
   },
   "source": [
    "### Kvadratické polynomy\n",
    "\n",
    "Důležitým polynomem je polynom druhého stupně $p(x)=ax^2+bx+c$.\n",
    "Jeho **kořeny** (tj. hodnoty $x\\in\\mathbb{R}$ pro něž $p(x)=0$) lze vyjádřit pomocí známého vzorce.\n",
    "Pokud je diskriminant $D=b^2-4ac$ nezáporný, platí\n",
    "$$ x_{1,2} = \\frac{-b \\pm \\sqrt{D}}{2a} $$\n",
    "Vrchol paraboly je v bodě $-\\frac{b}{2a}$, což je průměr kořenů (existují-li):\n",
    "$$ \\frac{x_1 + x_2}{2} = -\\frac{b}{2a} $$\n",
    "Vzorce pro kořeny můžeme ověřit pomocí Sage. Po jejich dosazení do kvadratického polynomu skutečně dostaneme nulu."
   ]
  },
  {
   "cell_type": "code",
   "execution_count": 25,
   "metadata": {
    "collapsed": false
   },
   "outputs": [
    {
     "name": "stdout",
     "output_type": "stream",
     "text": [
      "0\n",
      "0\n"
     ]
    }
   ],
   "source": [
    "var('a,b,c,x')\n",
    "print (a*x^2 + b*x + c).subs(x = (-b+sqrt(b^2-4*a*c))/(2*a)).full_simplify()\n",
    "print (a*x^2 + b*x + c).subs(x = (-b-sqrt(b^2-4*a*c))/(2*a)).full_simplify()"
   ]
  },
  {
   "cell_type": "markdown",
   "metadata": {},
   "source": [
    "Známý graf paraboly s možností změny koeficientů:"
   ]
  },
  {
   "cell_type": "code",
   "execution_count": 20,
   "metadata": {
    "collapsed": false,
    "deletable": true,
    "editable": true
   },
   "outputs": [
    {
     "data": {
      "application/vnd.jupyter.widget-view+json": {
       "model_id": "1cd2c5327bbb4b9ea6c4b56ea0aa9383"
      }
     },
     "metadata": {},
     "output_type": "display_data"
    }
   ],
   "source": [
    "@interact\n",
    "def parabola(a = slider(range(-10, 10), default=1, label='$a$'),\n",
    "             b = slider(range(-10, 10), default=4, label='$b$'),\n",
    "             c = slider(range(-10, 10), default=-6, label='$c$')):\n",
    "    D = b^2 - 4*a*c # výpočet diskriminantu\n",
    "    print 'D = ', D\n",
    "    if D > 0:\n",
    "        print 'x1 = ', n((-b+sqrt(D))/(2*a))\n",
    "        print 'x2 = ', n((-b-sqrt(D))/(2*a))\n",
    "\n",
    "    V = -b/(2*a) # x-ová souřadnice vrcholu\n",
    "    print 'Vrchol paraboly: [', n(V), ', ', n(a*V^2+b*V+c), ']'\n",
    "    # parabola\n",
    "    p = plot(a*x^2+b*x+c, (x, -10, 10), axes_labels=['$x$', '$ax^2+bx+c$'],\n",
    "             ymin=-10, ymax=10, figsize=6)\n",
    "    # další prvky\n",
    "    p += plot(a*V^2+b*V+c, (x, -10, 10), linestyle='dashed', color='grey')\n",
    "    p += line([(V, -10), (V, 10)], linestyle='dashed', color='grey')\n",
    "    if D > 0:\n",
    "        p += point(((-b+sqrt(D))/(2*a), 0), color='red', size=30) #průsečík\n",
    "        p += point(((-b-sqrt(D))/(2*a), 0), color='red', size=30) #průsečík\n",
    "\n",
    "    p += point((V, a*V^2+b*V+c), color='red', size=30) #vrchol\n",
    "    p.show()"
   ]
  },
  {
   "cell_type": "markdown",
   "metadata": {
    "deletable": true,
    "editable": true
   },
   "source": [
    "## Poznámka k hledání kořenů polynomů\n",
    "\n",
    "Pro kořeny polynomů stupně 1,2,3,4 existují explicitní vzorce. Pro polynomy stupně 5 a výše už takovéto vzorce neexistují. Přesněji, pomocí teorie grup lze dokázat, že vzorce pro kořeny polynomů stupně páteho a vyššího neexistují. Uvádíme přehled vzorců pro polynomy stupně 1 až 4.\n",
    "\n",
    "Polynom prvního stupně: $ax+b=0$"
   ]
  },
  {
   "cell_type": "code",
   "execution_count": 3,
   "metadata": {
    "collapsed": false,
    "deletable": true,
    "editable": true
   },
   "outputs": [
    {
     "data": {
      "text/html": [
       "<html><script type=\"math/tex; mode=display\">\\newcommand{\\Bold}[1]{\\mathbf{#1}}\\left[x = -\\frac{b}{a}\\right]</script></html>"
      ],
      "text/plain": [
       "[x == -b/a]"
      ]
     },
     "metadata": {},
     "output_type": "display_data"
    }
   ],
   "source": [
    "a, b, c, d, e = var('a, b, c, d, e')\n",
    "show(solve(a*x+b==0, x))"
   ]
  },
  {
   "cell_type": "markdown",
   "metadata": {
    "deletable": true,
    "editable": true
   },
   "source": [
    "Polynom druhého stupně: $ax^2 + bx + c = 0$"
   ]
  },
  {
   "cell_type": "code",
   "execution_count": 4,
   "metadata": {
    "collapsed": false,
    "deletable": true,
    "editable": true
   },
   "outputs": [
    {
     "data": {
      "text/html": [
       "<html><script type=\"math/tex; mode=display\">\\newcommand{\\Bold}[1]{\\mathbf{#1}}\\left[x = -\\frac{b + \\sqrt{b^{2} - 4 \\, a c}}{2 \\, a}, x = -\\frac{b - \\sqrt{b^{2} - 4 \\, a c}}{2 \\, a}\\right]</script></html>"
      ],
      "text/plain": [
       "[x == -1/2*(b + sqrt(b^2 - 4*a*c))/a, x == -1/2*(b - sqrt(b^2 - 4*a*c))/a]"
      ]
     },
     "metadata": {},
     "output_type": "display_data"
    }
   ],
   "source": [
    "show(solve(a*x^2+b*x+c==0, x))"
   ]
  },
  {
   "cell_type": "markdown",
   "metadata": {
    "deletable": true,
    "editable": true
   },
   "source": [
    "Polynom třetího stupně: $ax^3 + bx^2 + cx + d = 0$"
   ]
  },
  {
   "cell_type": "code",
   "execution_count": 5,
   "metadata": {
    "collapsed": false,
    "deletable": true,
    "editable": true
   },
   "outputs": [
    {
     "data": {
      "text/html": [
       "<html><script type=\"math/tex; mode=display\">\\newcommand{\\Bold}[1]{\\mathbf{#1}}x = -\\frac{{\\left(-i \\, \\sqrt{3} + 1\\right)} {\\left(\\frac{b^{2}}{a^{2}} - \\frac{3 \\, c}{a}\\right)}}{18 \\, {\\left(-\\frac{b^{3}}{27 \\, a^{3}} + \\frac{b c}{6 \\, a^{2}} - \\frac{d}{2 \\, a} + \\frac{\\sqrt{-\\frac{1}{3} \\, b^{2} c^{2} + \\frac{4}{3} \\, a c^{3} + 9 \\, a^{2} d^{2} + \\frac{2}{3} \\, {\\left(2 \\, b^{3} - 9 \\, a b c\\right)} d}}{6 \\, a^{2}}\\right)}^{\\frac{1}{3}}} - \\frac{1}{2} \\, {\\left(i \\, \\sqrt{3} + 1\\right)} {\\left(-\\frac{b^{3}}{27 \\, a^{3}} + \\frac{b c}{6 \\, a^{2}} - \\frac{d}{2 \\, a} + \\frac{\\sqrt{-\\frac{1}{3} \\, b^{2} c^{2} + \\frac{4}{3} \\, a c^{3} + 9 \\, a^{2} d^{2} + \\frac{2}{3} \\, {\\left(2 \\, b^{3} - 9 \\, a b c\\right)} d}}{6 \\, a^{2}}\\right)}^{\\frac{1}{3}} - \\frac{b}{3 \\, a}</script></html>"
      ],
      "text/plain": [
       "x == -1/18*(-I*sqrt(3) + 1)*(b^2/a^2 - 3*c/a)/(-1/27*b^3/a^3 + 1/6*b*c/a^2 - 1/2*d/a + 1/6*sqrt(-1/3*b^2*c^2 + 4/3*a*c^3 + 9*a^2*d^2 + 2/3*(2*b^3 - 9*a*b*c)*d)/a^2)^(1/3) - 1/2*(I*sqrt(3) + 1)*(-1/27*b^3/a^3 + 1/6*b*c/a^2 - 1/2*d/a + 1/6*sqrt(-1/3*b^2*c^2 + 4/3*a*c^3 + 9*a^2*d^2 + 2/3*(2*b^3 - 9*a*b*c)*d)/a^2)^(1/3) - 1/3*b/a"
      ]
     },
     "metadata": {},
     "output_type": "display_data"
    },
    {
     "data": {
      "text/html": [
       "<html><script type=\"math/tex; mode=display\">\\newcommand{\\Bold}[1]{\\mathbf{#1}}x = -\\frac{{\\left(i \\, \\sqrt{3} + 1\\right)} {\\left(\\frac{b^{2}}{a^{2}} - \\frac{3 \\, c}{a}\\right)}}{18 \\, {\\left(-\\frac{b^{3}}{27 \\, a^{3}} + \\frac{b c}{6 \\, a^{2}} - \\frac{d}{2 \\, a} + \\frac{\\sqrt{-\\frac{1}{3} \\, b^{2} c^{2} + \\frac{4}{3} \\, a c^{3} + 9 \\, a^{2} d^{2} + \\frac{2}{3} \\, {\\left(2 \\, b^{3} - 9 \\, a b c\\right)} d}}{6 \\, a^{2}}\\right)}^{\\frac{1}{3}}} - \\frac{1}{2} \\, {\\left(-i \\, \\sqrt{3} + 1\\right)} {\\left(-\\frac{b^{3}}{27 \\, a^{3}} + \\frac{b c}{6 \\, a^{2}} - \\frac{d}{2 \\, a} + \\frac{\\sqrt{-\\frac{1}{3} \\, b^{2} c^{2} + \\frac{4}{3} \\, a c^{3} + 9 \\, a^{2} d^{2} + \\frac{2}{3} \\, {\\left(2 \\, b^{3} - 9 \\, a b c\\right)} d}}{6 \\, a^{2}}\\right)}^{\\frac{1}{3}} - \\frac{b}{3 \\, a}</script></html>"
      ],
      "text/plain": [
       "x == -1/18*(I*sqrt(3) + 1)*(b^2/a^2 - 3*c/a)/(-1/27*b^3/a^3 + 1/6*b*c/a^2 - 1/2*d/a + 1/6*sqrt(-1/3*b^2*c^2 + 4/3*a*c^3 + 9*a^2*d^2 + 2/3*(2*b^3 - 9*a*b*c)*d)/a^2)^(1/3) - 1/2*(-I*sqrt(3) + 1)*(-1/27*b^3/a^3 + 1/6*b*c/a^2 - 1/2*d/a + 1/6*sqrt(-1/3*b^2*c^2 + 4/3*a*c^3 + 9*a^2*d^2 + 2/3*(2*b^3 - 9*a*b*c)*d)/a^2)^(1/3) - 1/3*b/a"
      ]
     },
     "metadata": {},
     "output_type": "display_data"
    },
    {
     "data": {
      "text/html": [
       "<html><script type=\"math/tex; mode=display\">\\newcommand{\\Bold}[1]{\\mathbf{#1}}x = \\frac{\\frac{b^{2}}{a^{2}} - \\frac{3 \\, c}{a}}{9 \\, {\\left(-\\frac{b^{3}}{27 \\, a^{3}} + \\frac{b c}{6 \\, a^{2}} - \\frac{d}{2 \\, a} + \\frac{\\sqrt{-\\frac{1}{3} \\, b^{2} c^{2} + \\frac{4}{3} \\, a c^{3} + 9 \\, a^{2} d^{2} + \\frac{2}{3} \\, {\\left(2 \\, b^{3} - 9 \\, a b c\\right)} d}}{6 \\, a^{2}}\\right)}^{\\frac{1}{3}}} + {\\left(-\\frac{b^{3}}{27 \\, a^{3}} + \\frac{b c}{6 \\, a^{2}} - \\frac{d}{2 \\, a} + \\frac{\\sqrt{-\\frac{1}{3} \\, b^{2} c^{2} + \\frac{4}{3} \\, a c^{3} + 9 \\, a^{2} d^{2} + \\frac{2}{3} \\, {\\left(2 \\, b^{3} - 9 \\, a b c\\right)} d}}{6 \\, a^{2}}\\right)}^{\\frac{1}{3}} - \\frac{b}{3 \\, a}</script></html>"
      ],
      "text/plain": [
       "x == 1/9*(b^2/a^2 - 3*c/a)/(-1/27*b^3/a^3 + 1/6*b*c/a^2 - 1/2*d/a + 1/6*sqrt(-1/3*b^2*c^2 + 4/3*a*c^3 + 9*a^2*d^2 + 2/3*(2*b^3 - 9*a*b*c)*d)/a^2)^(1/3) + (-1/27*b^3/a^3 + 1/6*b*c/a^2 - 1/2*d/a + 1/6*sqrt(-1/3*b^2*c^2 + 4/3*a*c^3 + 9*a^2*d^2 + 2/3*(2*b^3 - 9*a*b*c)*d)/a^2)^(1/3) - 1/3*b/a"
      ]
     },
     "metadata": {},
     "output_type": "display_data"
    }
   ],
   "source": [
    "roots = solve(a*x^3+b*x^2+c*x+d==0, x)\n",
    "for j in range(len(roots)):\n",
    "    show(roots[j])"
   ]
  },
  {
   "cell_type": "markdown",
   "metadata": {
    "deletable": true,
    "editable": true
   },
   "source": [
    "Polynom 4. stupně: $ax^4+bx^2+cx^2+dx+e=0$"
   ]
  },
  {
   "cell_type": "code",
   "execution_count": 6,
   "metadata": {
    "collapsed": true,
    "deletable": true,
    "editable": true
   },
   "outputs": [],
   "source": [
    "# tyto vzorce jsou již příliš komplikované a nemá smysl je vypisovat.\n",
    "#solve(a*x^4+b*x^3+c*x^2+d*x+e==0, x)"
   ]
  },
  {
   "cell_type": "markdown",
   "metadata": {
    "deletable": true,
    "editable": true
   },
   "source": [
    "Pro polynom pátého stupně už Sage nevrací žádný konkrétní výsledek, protože takové vzorce neexistují (to je dokázáno, ne že je jen neznáme)."
   ]
  },
  {
   "cell_type": "code",
   "execution_count": 7,
   "metadata": {
    "collapsed": false,
    "deletable": true,
    "editable": true
   },
   "outputs": [
    {
     "data": {
      "text/plain": [
       "[0 == a*x^5 + b*x^4 + c*x^3 + d*x^2 + e*x + f]"
      ]
     },
     "execution_count": 7,
     "metadata": {},
     "output_type": "execute_result"
    }
   ],
   "source": [
    "f = var('f')\n",
    "solve(a*x^5+b*x^4+c*x^3+d*x^2+e*x+f==0, x)"
   ]
  },
  {
   "cell_type": "markdown",
   "metadata": {},
   "source": [
    "## Exponenciální funkce a logaritmus\n",
    "\n",
    "V této části textu se podíváme na exponenciální funkci $a^x$, $1 \\neq a > 0$, a k ní inverzní funkci, logaritmus o základu $a$, $\\log_a x$. Speciálně pro $a = e$ mluvíme o exponenciále $e^x$ a přirozeném logaritmu $\\ln x$."
   ]
  },
  {
   "cell_type": "code",
   "execution_count": 43,
   "metadata": {
    "collapsed": false
   },
   "outputs": [
    {
     "data": {
      "application/vnd.jupyter.widget-view+json": {
       "model_id": "fc23003f20ab4e1c8cf5b712ffc18b30"
      }
     },
     "metadata": {},
     "output_type": "display_data"
    }
   ],
   "source": [
    "@interact\n",
    "def explog(a=slider(0, 3, default=2, step_size=0.1)):\n",
    "    p  = plot(a^x, (x, -2, 4), ymin=-2, ymax=4, legend_label='$a^x$',\n",
    "              axes_labels=['$x$', '$y$'])\n",
    "    p += plot(log(x, a), (x, 0, 4), legend_label='$\\log_a x$', color='red')\n",
    "    show(p, figsize=5, gridlines=true)"
   ]
  },
  {
   "cell_type": "markdown",
   "metadata": {},
   "source": [
    "Mezi vlastnosti exponenciální funkce a logaritmu patří vztahy\n",
    "\\begin{align*}\n",
    "    a^{x+y} &= a^x a^y, \\quad x,y\\in\\mathbb{R}, \\\\\n",
    "    \\log_a(x \\cdot y) &= \\log_a(x) + \\log_a(y), \\quad x,y > 0,\n",
    "\\end{align*}\n",
    "kde $1 \\neq a > 0$. Umí si Sage s těmito vztahy poradit?"
   ]
  },
  {
   "cell_type": "code",
   "execution_count": 44,
   "metadata": {
    "collapsed": false
   },
   "outputs": [
    {
     "data": {
      "text/plain": [
       "[a > 0, a != 1]"
      ]
     },
     "execution_count": 44,
     "metadata": {},
     "output_type": "execute_result"
    }
   ],
   "source": [
    "var('x,y,a')\n",
    "assume(a>0, a != 1)\n",
    "assumptions()"
   ]
  },
  {
   "cell_type": "code",
   "execution_count": 45,
   "metadata": {
    "collapsed": false
   },
   "outputs": [
    {
     "name": "stdout",
     "output_type": "stream",
     "text": [
      "0\n"
     ]
    }
   ],
   "source": [
    "print (a^(x+y) - a^x * a^y).full_simplify()"
   ]
  },
  {
   "cell_type": "code",
   "execution_count": 47,
   "metadata": {
    "collapsed": false
   },
   "outputs": [
    {
     "data": {
      "text/plain": [
       "[a > 0, a != 1, x > 0, y > 0]"
      ]
     },
     "execution_count": 47,
     "metadata": {},
     "output_type": "execute_result"
    }
   ],
   "source": [
    "assume(x>0, y>0)\n",
    "assumptions()"
   ]
  },
  {
   "cell_type": "code",
   "execution_count": 51,
   "metadata": {
    "collapsed": false
   },
   "outputs": [
    {
     "name": "stdout",
     "output_type": "stream",
     "text": [
      "(log(x*y) - log(x) - log(y))/log(a)\n"
     ]
    }
   ],
   "source": [
    "print (log(x*y, a) - log(x, a) - log(y, a)).full_simplify()"
   ]
  },
  {
   "cell_type": "markdown",
   "metadata": {},
   "source": [
    "To zcela není to co bychom chtěli (pouze došlo k přepsání pomocí přirozeného logaritmu). Sage má ovšem speciální funkci na zjednodušování výrazů s logaritmy:"
   ]
  },
  {
   "cell_type": "code",
   "execution_count": 52,
   "metadata": {
    "collapsed": false
   },
   "outputs": [
    {
     "name": "stdout",
     "output_type": "stream",
     "text": [
      "0\n"
     ]
    }
   ],
   "source": [
    "print (log(x*y, a) - log(x, a) - log(y, a)).log_simplify()"
   ]
  },
  {
   "cell_type": "markdown",
   "metadata": {},
   "source": [
    "Na závěr po po sobě uklidíme."
   ]
  },
  {
   "cell_type": "code",
   "execution_count": 54,
   "metadata": {
    "collapsed": false
   },
   "outputs": [
    {
     "data": {
      "text/plain": [
       "[]"
      ]
     },
     "execution_count": 54,
     "metadata": {},
     "output_type": "execute_result"
    }
   ],
   "source": [
    "forget()\n",
    "assumptions()"
   ]
  },
  {
   "cell_type": "markdown",
   "metadata": {
    "deletable": true,
    "editable": true
   },
   "source": [
    "## Trigonometrické funkce\n",
    "\n",
    "Mezi trigonometrické funkce zahrnujeme funkce sinus, kosinus, tangens a kotangens ($\\sin$, $\\cos$, $\\mathrm{tg}$ a $\\mathrm{cotg}$) a jejich inverzní funkce.\n",
    "\n",
    "### Sinus, kosinus a jednotková kružnice\n",
    "\n",
    "Funkce sinus a kosinus lze snadno definovat pomocí jednotkové kružnice. Viz následující demonstrace."
   ]
  },
  {
   "cell_type": "code",
   "execution_count": 58,
   "metadata": {
    "collapsed": false,
    "deletable": true,
    "editable": true
   },
   "outputs": [
    {
     "data": {
      "application/vnd.jupyter.widget-view+json": {
       "model_id": "188653c77cbc4dd9bbeae2b0c0dad1d5"
      }
     },
     "metadata": {},
     "output_type": "display_data"
    }
   ],
   "source": [
    "@interact\n",
    "def sincos(jaky=selector(['Sin', 'Cos'], buttons=True, label='Graf'),\n",
    "           fi = slider(range(0, 360), default=45, label='Uhel [stupne]')):\n",
    "    uhel = fi*pi/180 # úhel v radiánech\n",
    "    # jednotková kružnice\n",
    "    kruznice = circle((0, 0), 1)\n",
    "    kruznice += line([(0, 0), (cos(uhel), sin(uhel))], color='black')\n",
    "    kruznice += line([(0, sin(uhel)), (cos(uhel), sin(uhel))], color='black', linestyle='dashed')\n",
    "    kruznice += line([(cos(uhel), 0), (cos(uhel), sin(uhel))], color='black', linestyle='dashed')\n",
    "    # sinus\n",
    "    if jaky == 'Sin':\n",
    "        kruznice += line([(cos(uhel), 0), (cos(uhel), sin(uhel))], color='red')\n",
    "    else: # kosinus\n",
    "        kruznice += line([(0, sin(uhel)), (cos(uhel), sin(uhel))], color='red')\n",
    "    kruznice += point((cos(uhel), sin(uhel)), color='red', size=30) #bod\n",
    "    # graf funkce\n",
    "    if jaky == 'Sin':\n",
    "        graf = plot(sin(x), (x, 0, 2*pi), aspect_ratio=3)\n",
    "        graf += point((uhel, sin(uhel)), color='red', size=30) #bod\n",
    "    else: # kosinus\n",
    "        graf = plot(cos(x), (x, 0, 2*pi), aspect_ratio=3)\n",
    "        graf += point((uhel, cos(uhel)), color='red', size=30) #bod\n",
    "    kruznice.show(figsize=4)\n",
    "    graf.show(figsize=4)"
   ]
  },
  {
   "cell_type": "markdown",
   "metadata": {},
   "source": [
    "#### Vlastnosti\n",
    "\n",
    "Sinus i kosinus jsou funkce s definičními obory $D_{\\sin} = D_{\\cos} = \\mathbb{R}$ a obory hodnot $H_{\\sin} = H_{\\cos} = \\langle -1, 1 \\rangle$.\n",
    "Obě funkce jsou periodické s periodou $T = 2\\pi$. Sinus je funkce lichá a kosinus funkce sudá\n",
    "$$ \\sin(-x) = -\\sin(x),\\ \\cos(-x) = \\cos(x),\\ x\\in\\mathbb{R}. $$\n",
    "Vzhledem k definici pomocí jednotkové kružnice není překvapením, že podle Pythagorovy věty platí\n",
    "$$ \\sin^2(x) + \\cos^2(x) = 1. $$\n",
    "Vzorce pro dvojnásobný argument:\n",
    "\\begin{align*}\n",
    "  \\sin(2x) &= 2\\sin(x)\\cos(x), \\\\\n",
    "  \\cos(2x) &= \\cos^2(x)-\\sin^2(x),\\ x\\in\\mathbb{R}.\n",
    "\\end{align*}\n",
    "Součtová vzorce:\n",
    "\\begin{align*}\n",
    "  \\sin(x+y) &= \\sin(x)\\cos(y)+\\cos(x)\\sin(y), &\n",
    "  \\cos(x+y) &= \\cos(x)\\cos(y)-\\sin(x)\\sin(y), \\ x,y\\in\\mathbb{R}.\n",
    "\\end{align*}\n",
    "Opět se podíváme, jak si s těmito vztahy poradí Sage."
   ]
  },
  {
   "cell_type": "code",
   "execution_count": 64,
   "metadata": {
    "collapsed": false
   },
   "outputs": [
    {
     "name": "stdout",
     "output_type": "stream",
     "text": [
      "0\n",
      "0\n",
      "0\n",
      "0\n",
      "0\n"
     ]
    }
   ],
   "source": [
    "var('x,y')\n",
    "print (sin(2*x) - 2*sin(x)*cos(x)).full_simplify()\n",
    "print (cos(2*x) - (cos(x)^2 - sin(x)^2)).full_simplify()\n",
    "print (cos(x)^2 + sin(x)^2 - 1).full_simplify()\n",
    "print (sin(x+y) - sin(x)*cos(y) - cos(x)*sin(y)).full_simplify()\n",
    "print (cos(x+y) - cos(x)*cos(y) + sin(x)*sin(y)).full_simplify()"
   ]
  },
  {
   "cell_type": "markdown",
   "metadata": {},
   "source": [
    "#### Význačné funkční hodnoty:\n",
    "\n",
    "V následující tabulce uvádíme známé hodnoty funkcí sinus a kosinus.\n",
    "\n",
    "<table>\n",
    "<tbody>\n",
    "<tr>\n",
    "<td>funkce</td>\n",
    "<td>$0$</td>\n",
    "<td>$\\frac{\\pi}{6}$</td>\n",
    "<td>$\\frac{\\pi}{4}$</td>\n",
    "<td>$\\frac{\\pi}{3}$</td>\n",
    "<td>$\\frac{\\pi}{2}$</td>\n",
    "<td>$\\pi$</td>\n",
    "</tr>\n",
    "<tr>\n",
    "<td>$\\sin(x)$</td>\n",
    "<td>$0$</td>\n",
    "<td>$\\frac{1}{2}$</td>\n",
    "<td>$\\frac{\\sqrt{2}}{2}$</td>\n",
    "<td>$\\frac{\\sqrt{3}}{2}$</td>\n",
    "<td>$1$</td>\n",
    "<td>$0$</td>\n",
    "</tr>\n",
    "<tr>\n",
    "<td>$\\cos(x)$</td>\n",
    "<td>$1$</td>\n",
    "<td>$\\frac{\\sqrt{3}}{2}$</td>\n",
    "<td>$\\frac{\\sqrt{2}}{2}$</td>\n",
    "<td>$\\frac{1}{2}$</td>\n",
    "<td>$0$</td>\n",
    "<td>$-1$</td>\n",
    "</tr>\n",
    "</tbody>\n",
    "</table>\n",
    "\n",
    "Můžeme tyto hodnoty symbolicky spočítat i pomocí Sage."
   ]
  },
  {
   "cell_type": "code",
   "execution_count": 10,
   "metadata": {
    "collapsed": false
   },
   "outputs": [
    {
     "data": {
      "text/html": [
       "<div class=\"notruncate\">\n",
       "<table border=\"1\" class=\"table_form\">\n",
       "<tbody>\n",
       "<tr class =\"row-a\">\n",
       "<td class=\"ch\">-----------</td>\n",
       "<td>-----------</td>\n",
       "<td>-----------</td>\n",
       "<td>-----------</td>\n",
       "<td>-----------</td>\n",
       "<td>-----------</td>\n",
       "<td>-----------</td>\n",
       "</tr>\n",
       "<tr class =\"row-b\">\n",
       "<td class=\"ch\"><script type=\"math/tex\">x</script></td>\n",
       "<td><script type=\"math/tex\">0</script></td>\n",
       "<td><script type=\"math/tex\">\\frac{1}{6} \\, \\pi</script></td>\n",
       "<td><script type=\"math/tex\">\\frac{1}{4} \\, \\pi</script></td>\n",
       "<td><script type=\"math/tex\">\\frac{1}{3} \\, \\pi</script></td>\n",
       "<td><script type=\"math/tex\">\\frac{1}{2} \\, \\pi</script></td>\n",
       "<td><script type=\"math/tex\">\\pi</script></td>\n",
       "</tr>\n",
       "<tr class =\"row-a\">\n",
       "<td class=\"ch\"><script type=\"math/tex\">\\sin\\left(x\\right)</script></td>\n",
       "<td><script type=\"math/tex\">0</script></td>\n",
       "<td><script type=\"math/tex\">\\frac{1}{2}</script></td>\n",
       "<td><script type=\"math/tex\">\\frac{1}{2} \\, \\sqrt{2}</script></td>\n",
       "<td><script type=\"math/tex\">\\frac{1}{2} \\, \\sqrt{3}</script></td>\n",
       "<td><script type=\"math/tex\">1</script></td>\n",
       "<td><script type=\"math/tex\">0</script></td>\n",
       "</tr>\n",
       "<tr class =\"row-b\">\n",
       "<td class=\"ch\"><script type=\"math/tex\">\\cos\\left(x\\right)</script></td>\n",
       "<td><script type=\"math/tex\">1</script></td>\n",
       "<td><script type=\"math/tex\">\\frac{1}{2} \\, \\sqrt{3}</script></td>\n",
       "<td><script type=\"math/tex\">\\frac{1}{2} \\, \\sqrt{2}</script></td>\n",
       "<td><script type=\"math/tex\">\\frac{1}{2}</script></td>\n",
       "<td><script type=\"math/tex\">0</script></td>\n",
       "<td><script type=\"math/tex\">-1</script></td>\n",
       "</tr>\n",
       "</tbody>\n",
       "</table>\n",
       "</div>"
      ],
      "text/plain": [
       "+-------------++-------------+-------------+-------------+-------------+-------------+-------------+\n",
       "| ----------- || ----------- | ----------- | ----------- | ----------- | ----------- | ----------- |\n",
       "+-------------++-------------+-------------+-------------+-------------+-------------+-------------+\n",
       "| x           || 0           | 1/6*pi      | 1/4*pi      | 1/3*pi      | 1/2*pi      | pi          |\n",
       "+-------------++-------------+-------------+-------------+-------------+-------------+-------------+\n",
       "| sin(x)      || 0           | 1/2         | 1/2*sqrt(2) | 1/2*sqrt(3) | 1           | 0           |\n",
       "+-------------++-------------+-------------+-------------+-------------+-------------+-------------+\n",
       "| cos(x)      || 1           | 1/2*sqrt(3) | 1/2*sqrt(2) | 1/2         | 0           | -1          |\n",
       "+-------------++-------------+-------------+-------------+-------------+-------------+-------------+"
      ]
     },
     "execution_count": 10,
     "metadata": {},
     "output_type": "execute_result"
    }
   ],
   "source": [
    "var('x')\n",
    "xs = [x, 0, pi/6, pi/4, pi/3, pi/2, pi]       # vvv drobný hack na šířku sloupců \n",
    "table([[f(z) for z in xs] for f in [lambda z: '-----------', lambda z: z, sin, cos]], \n",
    "      header_column=True, frame=True)"
   ]
  },
  {
   "cell_type": "markdown",
   "metadata": {
    "deletable": true,
    "editable": true
   },
   "source": [
    "### Tangens a kotangens\n",
    "\n",
    "Funkce tangens a kotangens jsou definovány vztahy\n",
    "\\begin{align*}\n",
    "  \\tan(x) &= \\frac{\\sin(x)}{\\cos(x)}, &\n",
    "  \\cot(x) &= \\frac{\\cos(x)}{\\sin(x)}.\n",
    "\\end{align*}\n",
    "Vzhledem k vlastnostem funkcí sinus a kosinus platí $D_{\\tan} = \\mathbb{R}\\setminus\\left\\{\\frac{\\pi}{2}+k\\pi \\mid k\\in\\mathbb{Z}\\right\\}$, $D_{\\cot} = \\mathbb{R}\\setminus\\left\\{k\\pi \\mid k\\in\\mathbb{Z}\\right\\}$ a $H_{\\tan} = H_{\\cot} = \\mathbb{R}$.\n"
   ]
  },
  {
   "cell_type": "code",
   "execution_count": 23,
   "metadata": {
    "collapsed": false
   },
   "outputs": [
    {
     "data": {
      "image/png": "[encoded data removed]",
      "text/plain": [
       "Graphics object consisting of 10 graphics primitives"
      ]
     },
     "metadata": {},
     "output_type": "display_data"
    }
   ],
   "source": [
    "p1 = plot(tan(x), (x, -2*pi, 2*pi), ymin=-10, ymax=10, color='red',\n",
    "          legend_label='$\\mathrm{tg}\\,x$', detect_poles=True,\n",
    "          tick_formatter='latex',\n",
    "          ticks=[[-2*pi,-3*pi/2,-pi,-pi/2,pi/2,pi,3*pi/2,2*pi],[-8,-6,-4,-2,0,2,4,6,8]])\n",
    "p2 = plot(cot(x), (x, -2*pi, 2*pi), legend_label='$\\mathrm{cotg}\\,x$',\n",
    "          detect_poles=True)\n",
    "show(p1 + p2, figsize=6, gridlines=True)"
   ]
  }
 ],
 "metadata": {
  "kernelspec": {
   "display_name": "SageMath 8.1.beta7",
   "language": "",
   "name": "sagemath"
  },
  "language_info": {
   "codemirror_mode": {
    "name": "ipython",
    "version": 2
   },
   "file_extension": ".py",
   "mimetype": "text/x-python",
   "name": "python",
   "nbconvert_exporter": "python",
   "pygments_lexer": "ipython2",
   "version": "2.7.13"
  }
 },
 "nbformat": 4,
 "nbformat_minor": 2
}
