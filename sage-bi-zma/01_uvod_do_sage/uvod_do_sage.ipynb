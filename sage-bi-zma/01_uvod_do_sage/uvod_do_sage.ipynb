{
 "cells": [
  {
   "cell_type": "markdown",
   "metadata": {
    "deletable": true,
    "editable": true
   },
   "source": [
    "# Jemný úvod do Sage\n",
    "\n",
    "Tomáš Kalvoda, KAM FIT ČVUT, 2014, 2017\n",
    "\n",
    "## Povídání o Sage\n",
    "\n",
    "Sage je open-source matematický software vyvýjený od roku 2005 zejména Williamem Steinem, profesorem matematiky na University of Washington.\n",
    "Cíle Sage nejsou nikterak malé, dle oficiální stránky:\n",
    "\n",
    "*Mission: Creating a viable free open source alternative to Magma, Maple, Mathematica and Matlab.*\n",
    "\n",
    "Všechny podstatné informace o Sage může zájemce nalézt na oficiální stránce https://www.sagemath.org.\n",
    "Zejména je zde k dispozici podrobná dokumentace a instalační balíčky ke stažení.\n",
    "\n",
    "K Sage lze přistupovat několika způsoby. První možností je stáhnout si balíček a nainstalovat Sage na svém PC (nově i pro platformu Windows).\n",
    "Sage lze pak spustit z příkazové řádky, což však pro rozsáhlejší práci není příliš pohodlné.\n",
    "Příkazem\n",
    "\n",
    "```sh\n",
    "sage --notebook=jupyter\n",
    "```\n",
    "\n",
    "lze však spustit interaktivnější rozhranní k Sage využívající [Jupyter Notebook](http://jupyter.org) běžící v prohlížeči.\n",
    "Uživatelské prostředí je velmi inspirovnáno programem Mathematica.\n",
    "Uživatel pracuje se sešitem rozděleným na buňky, které mohou obsahovat kód, výsledky výpočtů, text nebo i matematické výrazy vkládané pomocí matematické syntaxe [LaTeX](https://www.latex-project.org)u.\n",
    "\n",
    "Další možností jak vyzkoušet Sage je použít cloudovou službu https://cocalc.com (dříve SageMathCloud).\n",
    "Tato služba  aktuálně nabízí bezplatný účet pro základní použití.\n",
    "Po registraci uživatel získává možnost vytvářet projekty (plnohodnotné linuxové virtuální stroje) v nichž může provádět své výpočty.\n",
    "K Sage lze přistupovat buď pomocí Sage Worksheet nebo IPython/Jupyter Notebook.\n",
    "Cloudová služba umožňuje ale daleko širší spektrum možností.\n",
    "Lze například přehledně editovat LaTeX soubory, projekty sdílet a pracovat tak kooperativně, nebo využívat příkazovou řádku virtuálního linuxového stroje.\n",
    "\n",
    "## Python\n",
    "\n",
    "Sage je založen na rozšířeném programovacím jazyku [Python](https://www.python.org).\n",
    "Díky tomu Sage obsahuje celou řadu zajímavých matematických balíčků (knihoven) napsaných v tomto jazyce (např. [NumPy](https://www.numpy.org), [SymPy](https://www.sympy.org) a další).\n",
    "Sage obsahuje i celou řadu matematických knihoven a programů napsaných v C/C++ k nimž vytváří jednotné uživatelské rozhranní napsané právě v Pythonu.\n",
    "\n",
    "V tomto odstavci shrneme jenom to nejnutnější minimum týkající se jazyka Python, aby případný čtenář neměl problém chápat a orientovat se v ukázkách.\n",
    "Čtenář prahnoucí po hlubším proniknutí do tohoto programovacího jazyka nebude mít problém nalézt zajímavé studijní zdroje na internetu (např. https://docs.python.org/2/tutorial/, nebo http://naucse.python.cz/).\n",
    "\n",
    "Není potřeba deklarovat typ proměnných, k inicializaci se používá standardní symbol přiřazení =.\n",
    "Obsah buňky s kódem vyhodnotíte stejně jako v Mathematica stisknutím `SHIFT+ENTER`."
   ]
  },
  {
   "cell_type": "code",
   "execution_count": 1,
   "metadata": {
    "collapsed": false,
    "deletable": true,
    "editable": true
   },
   "outputs": [
    {
     "name": "stdout",
     "output_type": "stream",
     "text": [
      "4\n",
      "Hello world!\n"
     ]
    }
   ],
   "source": [
    "a = 4\n",
    "print(a)\n",
    "a = 'Hello world!'\n",
    "print(a)"
   ]
  },
  {
   "cell_type": "markdown",
   "metadata": {
    "deletable": true,
    "editable": true
   },
   "source": [
    "Často používanou datovou strukturou je tzv. *list*, či pole. Pokud chceme list zadat explicitně používáme k tomu hranaté závorky a prvky oddělujeme čárkami. K prvkům pole pak přistupujeme pomocí indexu běžícího od nuly."
   ]
  },
  {
   "cell_type": "code",
   "execution_count": 2,
   "metadata": {
    "collapsed": false,
    "deletable": true,
    "editable": true
   },
   "outputs": [
    {
     "name": "stdout",
     "output_type": "stream",
     "text": [
      "B\n",
      "3\n"
     ]
    }
   ],
   "source": [
    "a = [1, 'B', pi ]\n",
    "print(a[1])\n",
    "print(len(a))     # len(a) vrátí počet prvků v listu `a`"
   ]
  },
  {
   "cell_type": "markdown",
   "metadata": {
    "deletable": true,
    "editable": true
   },
   "source": [
    "Nyní se podívejme na jednu specifickou a pro nováčka potenciálně matoucí vlastnost Pythonu. K oddělení bloku kódu se nepoužívá klíčových slov, ani závorek, ale **odsazení**. Demonstrujme tento jev na ukázce *if*-*else* podmínky."
   ]
  },
  {
   "cell_type": "code",
   "execution_count": 3,
   "metadata": {
    "collapsed": false,
    "deletable": true,
    "editable": true
   },
   "outputs": [
    {
     "name": "stdout",
     "output_type": "stream",
     "text": [
      "Ano!\n"
     ]
    }
   ],
   "source": [
    "if pi > 3:        # `pi` je o trochu větší než 3\n",
    "    print('Ano!')\n",
    "else:\n",
    "    print('Ne!')"
   ]
  },
  {
   "cell_type": "markdown",
   "metadata": {
    "deletable": true,
    "editable": true
   },
   "source": [
    "Podobně se chová známá *for* konstrukce (pod `range(4`) je dobré představovat množinu přirozených indexů od $0$ do $3$, tedy délky $4$)."
   ]
  },
  {
   "cell_type": "code",
   "execution_count": 4,
   "metadata": {
    "collapsed": false,
    "deletable": true,
    "editable": true
   },
   "outputs": [
    {
     "name": "stdout",
     "output_type": "stream",
     "text": [
      "0\n",
      "1\n",
      "4\n",
      "9\n"
     ]
    }
   ],
   "source": [
    "for k in range(4):  # `k` probíhá od 0 do 3\n",
    "    y = k^2         # položme `y` rovno `k` na druhou\n",
    "    print y         # vypiš `y`"
   ]
  },
  {
   "cell_type": "markdown",
   "metadata": {
    "deletable": true,
    "editable": true
   },
   "source": [
    "Pokud chceme definovat vlastní funkci, použijeme pro to klíčové slovo `def`. Všimněte si opět odsazení."
   ]
  },
  {
   "cell_type": "code",
   "execution_count": 5,
   "metadata": {
    "collapsed": true,
    "deletable": true,
    "editable": true
   },
   "outputs": [],
   "source": [
    "def f(x):      # definice\n",
    "    y = 4*x    # velmi složitý výpočet\n",
    "    return y   # návratová hodnota"
   ]
  },
  {
   "cell_type": "markdown",
   "metadata": {
    "deletable": true,
    "editable": true
   },
   "source": [
    "Dále je dobré zdůraznit, že u argumentů funkcí není potřeba udávat jejich typ. Naše funkce bude \"fungovat\" na všech objektech, pro které lze provést operace uvedené v těle funkce."
   ]
  },
  {
   "cell_type": "code",
   "execution_count": 6,
   "metadata": {
    "collapsed": false,
    "deletable": true,
    "editable": true
   },
   "outputs": [
    {
     "data": {
      "text/html": [
       "<html><script type=\"math/tex; mode=display\">\\newcommand{\\Bold}[1]{\\mathbf{#1}}16</script></html>"
      ],
      "text/plain": [
       "16"
      ]
     },
     "metadata": {},
     "output_type": "display_data"
    },
    {
     "data": {
      "text/html": [
       "<html><script type=\"math/tex; mode=display\">\\newcommand{\\Bold}[1]{\\mathbf{#1}}4 \\, \\pi</script></html>"
      ],
      "text/plain": [
       "4*pi"
      ]
     },
     "metadata": {},
     "output_type": "display_data"
    },
    {
     "data": {
      "text/html": [
       "<html><script type=\"math/tex; mode=display\">\\newcommand{\\Bold}[1]{\\mathbf{#1}}\\verb|Ahoj!Ahoj!Ahoj!Ahoj!|</script></html>"
      ],
      "text/plain": [
       "'Ahoj!Ahoj!Ahoj!Ahoj!'"
      ]
     },
     "metadata": {},
     "output_type": "display_data"
    }
   ],
   "source": [
    "show(f(4))       # `show` je trochu hezčí `print`, zejména co\n",
    "show(f(pi))      # se matematických výrazů týče\n",
    "show(f('Ahoj!'))"
   ]
  },
  {
   "cell_type": "markdown",
   "metadata": {
    "deletable": true,
    "editable": true
   },
   "source": [
    "Pyhon je objektový jazyk. Všechna prostředí podporující Sage nabízí kontextovou nápovědu snadno vyvolatelnou pomocí klávesy `TAB`. Zkuste nastavit kurzor za tečku a stisknout klávesu `TAB`. Například níže vytvoříme objekt reprezentující celé číslo $9$ ne jako pythonovský `int`, ale jako prvek okruhu celých čísel."
   ]
  },
  {
   "cell_type": "code",
   "execution_count": 7,
   "metadata": {
    "collapsed": true,
    "deletable": true,
    "editable": true
   },
   "outputs": [],
   "source": [
    "# malé celé číslo\n",
    "a = 9"
   ]
  },
  {
   "cell_type": "markdown",
   "metadata": {
    "deletable": true,
    "editable": true
   },
   "source": [
    "K dispozici pak máme celou řadu metod, které obyčejný pythonovský `int` nemá. Například:"
   ]
  },
  {
   "cell_type": "code",
   "execution_count": 8,
   "metadata": {
    "collapsed": false,
    "deletable": true,
    "editable": true
   },
   "outputs": [
    {
     "name": "stdout",
     "output_type": "stream",
     "text": [
      "Je prvočíslo?\n",
      "False\n",
      "Faktorizace:\n"
     ]
    },
    {
     "data": {
      "text/html": [
       "<html><script type=\"math/tex; mode=display\">\\newcommand{\\Bold}[1]{\\mathbf{#1}}3^{2}</script></html>"
      ],
      "text/plain": [
       "3^2"
      ]
     },
     "metadata": {},
     "output_type": "display_data"
    }
   ],
   "source": [
    "print 'Je prvočíslo?'\n",
    "print a.is_prime()\n",
    "print 'Faktorizace:'\n",
    "show(a.factor())"
   ]
  },
  {
   "cell_type": "markdown",
   "metadata": {
    "deletable": true,
    "editable": true
   },
   "source": [
    "Pokud si nevíme rady s jistou funkcí, můžeme vyvolat nápovědu pomocí otazníku za názvem funkce (dva otazníky zobrazí zdrojový kód funkce).\n",
    "Buňku je potřeba vyhodnotit.\n",
    "Stejně se Sage chová i v příkazové řádce."
   ]
  },
  {
   "cell_type": "code",
   "execution_count": 9,
   "metadata": {
    "collapsed": true,
    "deletable": true,
    "editable": true
   },
   "outputs": [],
   "source": [
    "factorial?"
   ]
  },
  {
   "cell_type": "markdown",
   "metadata": {
    "deletable": true,
    "editable": true
   },
   "source": [
    "## Číselné množiny v Sage\n",
    "\n",
    "### Celá čísla $\\mathbb{Z}$"
   ]
  },
  {
   "cell_type": "markdown",
   "metadata": {
    "deletable": true,
    "editable": true
   },
   "source": [
    "Množina celých čísel je v Sage skryta pod objektem `ZZ`. "
   ]
  },
  {
   "cell_type": "code",
   "execution_count": 10,
   "metadata": {
    "collapsed": false,
    "deletable": true,
    "editable": true
   },
   "outputs": [
    {
     "name": "stdout",
     "output_type": "stream",
     "text": [
      "Integer Ring\n"
     ]
    },
    {
     "data": {
      "text/html": [
       "<html><script type=\"math/tex; mode=display\">\\newcommand{\\Bold}[1]{\\mathbf{#1}}\\Bold{Z}</script></html>"
      ],
      "text/plain": [
       "Integer Ring"
      ]
     },
     "metadata": {},
     "output_type": "display_data"
    }
   ],
   "source": [
    "print ZZ\n",
    "show(ZZ)"
   ]
  },
  {
   "cell_type": "markdown",
   "metadata": {
    "deletable": true,
    "editable": true
   },
   "source": [
    "Okruh (*ring*) je množina s definovaným sčítáním a násobením (kde navíc platí známe asociativní, komutativní a distributiní zákony).\n",
    "Jak zadat konkrétní celé číslo?\n",
    "Existuje několik ekvivalentních způsobů:"
   ]
  },
  {
   "cell_type": "code",
   "execution_count": 10,
   "metadata": {
    "collapsed": false,
    "deletable": true,
    "editable": true
   },
   "outputs": [
    {
     "name": "stdout",
     "output_type": "stream",
     "text": [
      "True\n",
      "True\n"
     ]
    },
    {
     "data": {
      "text/plain": [
       "<type 'sage.rings.integer.Integer'>"
      ]
     },
     "execution_count": 10,
     "metadata": {},
     "output_type": "execute_result"
    }
   ],
   "source": [
    "j = 1           # ekvivalentní způsoby vytvoření obektu typy Sage Integer s hodnotou 1\n",
    "k = ZZ(1)\n",
    "l = Integer(1)\n",
    "print(j == k)\n",
    "print(k == l)\n",
    "type(j)"
   ]
  },
  {
   "cell_type": "markdown",
   "metadata": {
    "deletable": true,
    "editable": true
   },
   "source": [
    "Sageovská celá čísla jsou daleko mocnější než obyčejné Pythonovské analogy.\n",
    "Prozkoumejte dostupné metody na objektech tohoto typu (viz `TAB`).\n",
    "Sage dokáže efektivně pracovat i s velmi velkými celočíselnými hodnotami."
   ]
  },
  {
   "cell_type": "markdown",
   "metadata": {
    "deletable": true,
    "editable": true
   },
   "source": [
    "### Racionální čísla $\\mathbb{Q}$\n",
    "\n",
    "Racionální čísla se ukrývají pod zkratkou `QQ`."
   ]
  },
  {
   "cell_type": "code",
   "execution_count": 11,
   "metadata": {
    "collapsed": false,
    "deletable": true,
    "editable": true
   },
   "outputs": [
    {
     "name": "stdout",
     "output_type": "stream",
     "text": [
      "Rational Field\n"
     ]
    },
    {
     "data": {
      "text/html": [
       "<html><script type=\"math/tex; mode=display\">\\newcommand{\\Bold}[1]{\\mathbf{#1}}\\Bold{Q}</script></html>"
      ],
      "text/plain": [
       "Rational Field"
      ]
     },
     "metadata": {},
     "output_type": "display_data"
    }
   ],
   "source": [
    "print QQ\n",
    "show(QQ)"
   ]
  },
  {
   "cell_type": "markdown",
   "metadata": {
    "deletable": true,
    "editable": true
   },
   "source": [
    "Jak víme z přednášky, racionální čísla tvoří tzv. těleso (v angličtině se používá termín `field`).\n",
    "Racionální čísla lze opět vytvářet různými způsoby.\n",
    "Zápis pomocí zlomku je velmi přímočarý."
   ]
  },
  {
   "cell_type": "code",
   "execution_count": 13,
   "metadata": {
    "collapsed": false,
    "deletable": true,
    "editable": true
   },
   "outputs": [
    {
     "name": "stdout",
     "output_type": "stream",
     "text": [
      "True\n",
      "3/2\n"
     ]
    }
   ],
   "source": [
    "j = QQ(1.5)\n",
    "k = 3/2\n",
    "print(j == k)\n",
    "print j"
   ]
  },
  {
   "cell_type": "markdown",
   "metadata": {
    "deletable": true,
    "editable": true
   },
   "source": [
    "Sage si velmi dává pozor, aby algebraické operace fungovali tak jak v matematice očekáváme.\n",
    "Pokud ho nutíme sečist celé číslo a racionální číslo nemá s tím problém a vrátí nám výsledek ve tvaru racionálního čísla:"
   ]
  },
  {
   "cell_type": "code",
   "execution_count": 15,
   "metadata": {
    "collapsed": false,
    "deletable": true,
    "editable": true
   },
   "outputs": [
    {
     "data": {
      "text/html": [
       "<html><script type=\"math/tex; mode=display\">\\newcommand{\\Bold}[1]{\\mathbf{#1}}\\frac{7}{2}</script></html>"
      ],
      "text/plain": [
       "7/2"
      ]
     },
     "metadata": {},
     "output_type": "display_data"
    },
    {
     "name": "stdout",
     "output_type": "stream",
     "text": [
      "<type 'sage.rings.rational.Rational'>\n"
     ]
    }
   ],
   "source": [
    "a = ZZ(2)\n",
    "b = QQ(3/2)\n",
    "show(a + b)\n",
    "print(type(a + b))"
   ]
  },
  {
   "cell_type": "markdown",
   "metadata": {
    "deletable": true,
    "editable": true
   },
   "source": [
    "### Reálná čísla (v dané přesnosti)\n",
    "\n",
    "Přesněji řečeno, nejde o reálná čísla ale o jejich numerickou aproximaci. Sage nám naštěstí umožnuje explicitně zadat přesnost, v jaké počítáme. V tom se poměrně podstatně liší od Mathematica, kde se s těmito tzv. strojovými číslay pracuje zcela jiným způsobem."
   ]
  },
  {
   "cell_type": "code",
   "execution_count": 17,
   "metadata": {
    "collapsed": false,
    "deletable": true,
    "editable": true
   },
   "outputs": [
    {
     "name": "stdout",
     "output_type": "stream",
     "text": [
      "Real Field with 53 bits of precision\n"
     ]
    },
    {
     "data": {
      "text/html": [
       "<html><script type=\"math/tex; mode=display\">\\newcommand{\\Bold}[1]{\\mathbf{#1}}\\Bold{R}</script></html>"
      ],
      "text/plain": [
       "Real Field with 53 bits of precision"
      ]
     },
     "metadata": {},
     "output_type": "display_data"
    }
   ],
   "source": [
    "print RR\n",
    "show(RR)"
   ]
  },
  {
   "cell_type": "markdown",
   "metadata": {},
   "source": [
    "Slovíčko \"*field*\" je zde lehce úsměvné."
   ]
  },
  {
   "cell_type": "code",
   "execution_count": 18,
   "metadata": {
    "collapsed": false,
    "deletable": true,
    "editable": true
   },
   "outputs": [
    {
     "data": {
      "text/plain": [
       "<type 'sage.rings.real_mpfr.RealLiteral'>"
      ]
     },
     "execution_count": 18,
     "metadata": {},
     "output_type": "execute_result"
    }
   ],
   "source": [
    "x = RR(-1.345)\n",
    "type(x)"
   ]
  },
  {
   "cell_type": "code",
   "execution_count": 23,
   "metadata": {
    "collapsed": false
   },
   "outputs": [
    {
     "name": "stdout",
     "output_type": "stream",
     "text": [
      "(-1, 6057341498813317, -52)\n"
     ]
    }
   ],
   "source": [
    "s, m, ex = x.sign_mantissa_exponent()\n",
    "print(s, m, ex)"
   ]
  },
  {
   "cell_type": "code",
   "execution_count": 25,
   "metadata": {
    "collapsed": false
   },
   "outputs": [
    {
     "data": {
      "text/plain": [
       "-1.34500000000000"
      ]
     },
     "execution_count": 25,
     "metadata": {},
     "output_type": "execute_result"
    }
   ],
   "source": [
    "n(s * m * 2^ex )"
   ]
  },
  {
   "cell_type": "markdown",
   "metadata": {},
   "source": [
    "Odmocnina je definována stejně (pro středoškoláky překvapivě) jako v Mathematica."
   ]
  },
  {
   "cell_type": "code",
   "execution_count": 27,
   "metadata": {
    "collapsed": false,
    "deletable": true,
    "editable": true
   },
   "outputs": [
    {
     "name": "stdout",
     "output_type": "stream",
     "text": [
      "0.500000000000000 + 0.866025403784439*I\n"
     ]
    },
    {
     "data": {
      "text/plain": [
       "<type 'sage.rings.complex_number.ComplexNumber'>"
      ]
     },
     "execution_count": 27,
     "metadata": {},
     "output_type": "execute_result"
    }
   ],
   "source": [
    "y = (-1.0)^(1/3)\n",
    "print y\n",
    "type(y)"
   ]
  },
  {
   "cell_type": "markdown",
   "metadata": {},
   "source": [
    "Pokud chceme počítat ve vyšší přesnosti, není problém:"
   ]
  },
  {
   "cell_type": "code",
   "execution_count": 30,
   "metadata": {
    "collapsed": false,
    "deletable": true,
    "editable": true
   },
   "outputs": [
    {
     "data": {
      "text/plain": [
       "Real Field with 100 bits of precision"
      ]
     },
     "execution_count": 30,
     "metadata": {},
     "output_type": "execute_result"
    }
   ],
   "source": [
    "F = RealField(100)\n",
    "F"
   ]
  },
  {
   "cell_type": "code",
   "execution_count": 33,
   "metadata": {
    "collapsed": false
   },
   "outputs": [
    {
     "name": "stdout",
     "output_type": "stream",
     "text": [
      "3.1415926535897932384626433833\n",
      "3.14159265358979\n"
     ]
    }
   ],
   "source": [
    "print(F(pi))\n",
    "print(RR(pi))"
   ]
  },
  {
   "cell_type": "markdown",
   "metadata": {
    "deletable": true,
    "editable": true
   },
   "source": [
    "Eulerovo číslo."
   ]
  },
  {
   "cell_type": "code",
   "execution_count": 21,
   "metadata": {
    "collapsed": false,
    "deletable": true,
    "editable": true
   },
   "outputs": [
    {
     "data": {
      "text/html": [
       "<html><script type=\"math/tex; mode=display\">\\newcommand{\\Bold}[1]{\\mathbf{#1}}e</script></html>"
      ],
      "text/plain": [
       "e"
      ]
     },
     "metadata": {},
     "output_type": "display_data"
    },
    {
     "data": {
      "text/plain": [
       "<type 'sage.symbolic.constants_c.E'>"
      ]
     },
     "execution_count": 21,
     "metadata": {},
     "output_type": "execute_result"
    }
   ],
   "source": [
    "show(e)\n",
    "type(e)"
   ]
  },
  {
   "cell_type": "code",
   "execution_count": 35,
   "metadata": {
    "collapsed": false,
    "deletable": true,
    "editable": true
   },
   "outputs": [
    {
     "name": "stdout",
     "output_type": "stream",
     "text": [
      "2.718281828\n",
      "2.71828183\n"
     ]
    }
   ],
   "source": [
    "print N(e, digits=10) # N, případně n, je funkce vypisující přibližnou hodnotu\n",
    "print N(e, prec=32)   # symbolického výsledku"
   ]
  },
  {
   "cell_type": "markdown",
   "metadata": {
    "deletable": true,
    "editable": true
   },
   "source": [
    "Ludolfovo číslo."
   ]
  },
  {
   "cell_type": "code",
   "execution_count": 23,
   "metadata": {
    "collapsed": false,
    "deletable": true,
    "editable": true
   },
   "outputs": [
    {
     "data": {
      "text/html": [
       "<html><script type=\"math/tex; mode=display\">\\newcommand{\\Bold}[1]{\\mathbf{#1}}\\pi</script></html>"
      ],
      "text/plain": [
       "pi"
      ]
     },
     "metadata": {},
     "output_type": "display_data"
    },
    {
     "data": {
      "text/plain": [
       "<type 'sage.symbolic.expression.Expression'>"
      ]
     },
     "execution_count": 23,
     "metadata": {},
     "output_type": "execute_result"
    }
   ],
   "source": [
    "show(pi)\n",
    "type(pi)"
   ]
  },
  {
   "cell_type": "code",
   "execution_count": 36,
   "metadata": {
    "collapsed": false,
    "deletable": true,
    "editable": true
   },
   "outputs": [
    {
     "name": "stdout",
     "output_type": "stream",
     "text": [
      "3.141592654\n",
      "3.14159265\n"
     ]
    }
   ],
   "source": [
    "print N(pi, digits=10)\n",
    "print N(pi, prec=32)"
   ]
  },
  {
   "cell_type": "markdown",
   "metadata": {
    "deletable": true,
    "editable": true
   },
   "source": [
    "### Komplexní čísla $\\mathbb{C}$\n",
    "\n",
    "S komplexními čísly v BI-ZMA do styku příliš nepřijdeme. Zmiňme alespoň imaginární jednotku $i$."
   ]
  },
  {
   "cell_type": "code",
   "execution_count": 25,
   "metadata": {
    "collapsed": false,
    "deletable": true,
    "editable": true
   },
   "outputs": [
    {
     "data": {
      "text/plain": [
       "<type 'sage.symbolic.expression.Expression'>"
      ]
     },
     "execution_count": 25,
     "metadata": {},
     "output_type": "execute_result"
    }
   ],
   "source": [
    "I\n",
    "type(I)"
   ]
  },
  {
   "cell_type": "code",
   "execution_count": 26,
   "metadata": {
    "collapsed": false,
    "deletable": true,
    "editable": true
   },
   "outputs": [
    {
     "data": {
      "text/plain": [
       "-1"
      ]
     },
     "execution_count": 26,
     "metadata": {},
     "output_type": "execute_result"
    }
   ],
   "source": [
    "I^2"
   ]
  },
  {
   "cell_type": "markdown",
   "metadata": {
    "deletable": true,
    "editable": true
   },
   "source": [
    "### Symbolický okruh\n",
    "\n",
    "Často je potřeba pracovat s čísly (a dalšími objekty) v absolutní přesnosti, resp. pracovat se symbolickými výrazy. K tomu v Sage slouži symbolický okruh."
   ]
  },
  {
   "cell_type": "code",
   "execution_count": 27,
   "metadata": {
    "collapsed": false,
    "deletable": true,
    "editable": true
   },
   "outputs": [
    {
     "data": {
      "text/plain": [
       "Symbolic Ring"
      ]
     },
     "execution_count": 27,
     "metadata": {},
     "output_type": "execute_result"
    }
   ],
   "source": [
    "SR"
   ]
  },
  {
   "cell_type": "markdown",
   "metadata": {
    "deletable": true,
    "editable": true
   },
   "source": [
    "Pokud Sage dáme symbolický výraz (bez proměnné, o nich níže), automaticky ho interpretuje jako prvek `SR`."
   ]
  },
  {
   "cell_type": "code",
   "execution_count": 37,
   "metadata": {
    "collapsed": false,
    "deletable": true,
    "editable": true
   },
   "outputs": [
    {
     "data": {
      "text/html": [
       "<html><script type=\"math/tex; mode=display\">\\newcommand{\\Bold}[1]{\\mathbf{#1}}\\frac{1}{2} \\, \\log\\left(\\pi\\right)</script></html>"
      ],
      "text/plain": [
       "1/2*log(pi)"
      ]
     },
     "metadata": {},
     "output_type": "display_data"
    },
    {
     "name": "stdout",
     "output_type": "stream",
     "text": [
      "<type 'sage.symbolic.expression.Expression'>\n"
     ]
    }
   ],
   "source": [
    "a = sqrt(2)\n",
    "b = log(pi)/sqrt(8)\n",
    "show(a*b)\n",
    "print(type(a))"
   ]
  },
  {
   "cell_type": "markdown",
   "metadata": {
    "deletable": true,
    "editable": true
   },
   "source": [
    "## Algebra a symbolické výrazy\n",
    "\n",
    "Sage umožňuje pracovat i se symbolickými proměnnými a výrazy. Nejprve je potřeba vytvořit proměnnou, s kterou budeme pracovat."
   ]
  },
  {
   "cell_type": "code",
   "execution_count": 38,
   "metadata": {
    "collapsed": false,
    "deletable": true,
    "editable": true
   },
   "outputs": [
    {
     "data": {
      "text/plain": [
       "x"
      ]
     },
     "execution_count": 38,
     "metadata": {},
     "output_type": "execute_result"
    }
   ],
   "source": [
    "var('x')"
   ]
  },
  {
   "cell_type": "markdown",
   "metadata": {
    "deletable": true,
    "editable": true
   },
   "source": [
    "Poté můžeme vytvořit výraz, který nás zajímá."
   ]
  },
  {
   "cell_type": "code",
   "execution_count": 39,
   "metadata": {
    "collapsed": false,
    "deletable": true,
    "editable": true
   },
   "outputs": [
    {
     "data": {
      "text/html": [
       "<html><script type=\"math/tex; mode=display\">\\newcommand{\\Bold}[1]{\\mathbf{#1}}x^{2} + \\frac{\\sin\\left(x\\right)}{x^{2} + 1}</script></html>"
      ],
      "text/plain": [
       "x^2 + sin(x)/(x^2 + 1)"
      ]
     },
     "metadata": {},
     "output_type": "display_data"
    }
   ],
   "source": [
    "expr = x^2 + sin(x) / (x^2 + 1)\n",
    "show(expr)"
   ]
  },
  {
   "cell_type": "code",
   "execution_count": 31,
   "metadata": {
    "collapsed": false,
    "deletable": true,
    "editable": true
   },
   "outputs": [
    {
     "data": {
      "text/plain": [
       "<type 'sage.symbolic.expression.Expression'>"
      ]
     },
     "execution_count": 31,
     "metadata": {},
     "output_type": "execute_result"
    }
   ],
   "source": [
    "# jakého typu je tento objekt?\n",
    "type(expr)"
   ]
  },
  {
   "cell_type": "markdown",
   "metadata": {
    "deletable": true,
    "editable": true
   },
   "source": [
    "Často chceme za proměnnou dosadit konkrétní hodnotu.\n",
    "K tomu lze použít několik způsobů."
   ]
  },
  {
   "cell_type": "code",
   "execution_count": 41,
   "metadata": {
    "collapsed": false,
    "deletable": true,
    "editable": true
   },
   "outputs": [
    {
     "data": {
      "text/html": [
       "<html><script type=\"math/tex; mode=display\">\\newcommand{\\Bold}[1]{\\mathbf{#1}}\\frac{1}{4} \\, \\pi^{2} + \\frac{4}{\\pi^{2} + 4}</script></html>"
      ],
      "text/plain": [
       "1/4*pi^2 + 4/(pi^2 + 4)"
      ]
     },
     "metadata": {},
     "output_type": "display_data"
    },
    {
     "data": {
      "text/html": [
       "<html><script type=\"math/tex; mode=display\">\\newcommand{\\Bold}[1]{\\mathbf{#1}}\\frac{1}{4} \\, \\pi^{2} + \\frac{4}{\\pi^{2} + 4}</script></html>"
      ],
      "text/plain": [
       "1/4*pi^2 + 4/(pi^2 + 4)"
      ]
     },
     "metadata": {},
     "output_type": "display_data"
    }
   ],
   "source": [
    "# pomocí rovnosti\n",
    "show(expr(x = pi/2))\n",
    "# pomocí slovniku (substituce, podobné nahrazovacímu pravidlu v Mathematica)\n",
    "show(expr({x:pi/2}))"
   ]
  },
  {
   "cell_type": "markdown",
   "metadata": {
    "deletable": true,
    "editable": true
   },
   "source": [
    "Ukažme si základní algebraické úpravy."
   ]
  },
  {
   "cell_type": "code",
   "execution_count": 42,
   "metadata": {
    "collapsed": false,
    "deletable": true,
    "editable": true
   },
   "outputs": [
    {
     "data": {
      "text/html": [
       "<html><script type=\"math/tex; mode=display\">\\newcommand{\\Bold}[1]{\\mathbf{#1}}{\\left(x + 4\\right)}^{5}</script></html>"
      ],
      "text/plain": [
       "(x + 4)^5"
      ]
     },
     "metadata": {},
     "output_type": "display_data"
    }
   ],
   "source": [
    "expr = (x+4)^5\n",
    "show(expr)"
   ]
  },
  {
   "cell_type": "markdown",
   "metadata": {
    "deletable": true,
    "editable": true
   },
   "source": [
    "Roznásobení."
   ]
  },
  {
   "cell_type": "code",
   "execution_count": 43,
   "metadata": {
    "collapsed": false,
    "deletable": true,
    "editable": true
   },
   "outputs": [
    {
     "data": {
      "text/html": [
       "<html><script type=\"math/tex; mode=display\">\\newcommand{\\Bold}[1]{\\mathbf{#1}}x^{5} + 20 \\, x^{4} + 160 \\, x^{3} + 640 \\, x^{2} + 1280 \\, x + 1024</script></html>"
      ],
      "text/plain": [
       "x^5 + 20*x^4 + 160*x^3 + 640*x^2 + 1280*x + 1024"
      ]
     },
     "metadata": {},
     "output_type": "display_data"
    }
   ],
   "source": [
    "expr = expr.expand()\n",
    "show(expr)"
   ]
  },
  {
   "cell_type": "markdown",
   "metadata": {
    "deletable": true,
    "editable": true
   },
   "source": [
    "A naopak faktorizace polynomu, tedy známá úprava na kořenové činitele."
   ]
  },
  {
   "cell_type": "code",
   "execution_count": 44,
   "metadata": {
    "collapsed": false,
    "deletable": true,
    "editable": true
   },
   "outputs": [
    {
     "data": {
      "text/html": [
       "<html><script type=\"math/tex; mode=display\">\\newcommand{\\Bold}[1]{\\mathbf{#1}}{\\left(x + 4\\right)}^{5}</script></html>"
      ],
      "text/plain": [
       "(x + 4)^5"
      ]
     },
     "metadata": {},
     "output_type": "display_data"
    }
   ],
   "source": [
    "expr = expr.factor()\n",
    "show(expr)"
   ]
  },
  {
   "cell_type": "markdown",
   "metadata": {
    "deletable": true,
    "editable": true
   },
   "source": [
    "Sage umí pracovat nejen s polynomy. Můžeme provádět i úpravy trigonometrických výrazů."
   ]
  },
  {
   "cell_type": "code",
   "execution_count": 47,
   "metadata": {
    "collapsed": false,
    "deletable": true,
    "editable": true
   },
   "outputs": [
    {
     "data": {
      "text/html": [
       "<html><script type=\"math/tex; mode=display\">\\newcommand{\\Bold}[1]{\\mathbf{#1}}\\sin\\left(4 \\, x\\right)</script></html>"
      ],
      "text/plain": [
       "sin(4*x)"
      ]
     },
     "metadata": {},
     "output_type": "display_data"
    }
   ],
   "source": [
    "expr = sin(4*x)\n",
    "show(expr)"
   ]
  },
  {
   "cell_type": "code",
   "execution_count": 48,
   "metadata": {
    "collapsed": false,
    "deletable": true,
    "editable": true
   },
   "outputs": [
    {
     "data": {
      "text/html": [
       "<html><script type=\"math/tex; mode=display\">\\newcommand{\\Bold}[1]{\\mathbf{#1}}4 \\, \\cos\\left(x\\right)^{3} \\sin\\left(x\\right) - 4 \\, \\cos\\left(x\\right) \\sin\\left(x\\right)^{3}</script></html>"
      ],
      "text/plain": [
       "4*cos(x)^3*sin(x) - 4*cos(x)*sin(x)^3"
      ]
     },
     "metadata": {},
     "output_type": "display_data"
    }
   ],
   "source": [
    "expr = expr.trig_expand()\n",
    "show(expr)"
   ]
  },
  {
   "cell_type": "code",
   "execution_count": 49,
   "metadata": {
    "collapsed": false,
    "deletable": true,
    "editable": true
   },
   "outputs": [
    {
     "data": {
      "text/html": [
       "<html><script type=\"math/tex; mode=display\">\\newcommand{\\Bold}[1]{\\mathbf{#1}}\\sin\\left(4 \\, x\\right)</script></html>"
      ],
      "text/plain": [
       "sin(4*x)"
      ]
     },
     "metadata": {},
     "output_type": "display_data"
    }
   ],
   "source": [
    "expr = expr.trig_reduce()\n",
    "show(expr)"
   ]
  },
  {
   "cell_type": "markdown",
   "metadata": {},
   "source": [
    "Užitečnými metodami fungujícími i na složitějších symbolických výrazech jsou `simplify` a `full_simplify`."
   ]
  },
  {
   "cell_type": "markdown",
   "metadata": {
    "deletable": true,
    "editable": true
   },
   "source": [
    "## Sumace a Řady\n",
    "\n",
    "V BI-ZMA budeme často pracovat s částečnými součty a řadami. S některými součty nám může Sage pomoci."
   ]
  },
  {
   "cell_type": "code",
   "execution_count": 50,
   "metadata": {
    "collapsed": false,
    "deletable": true,
    "editable": true
   },
   "outputs": [
    {
     "data": {
      "text/plain": [
       "(k, n, x)"
      ]
     },
     "execution_count": 50,
     "metadata": {},
     "output_type": "execute_result"
    }
   ],
   "source": [
    "var('k,n,x')"
   ]
  },
  {
   "cell_type": "markdown",
   "metadata": {
    "deletable": true,
    "editable": true
   },
   "source": [
    "Známý součet prvních $n$ přirozených čísel, tedy\n",
    "$$ \\sum_{k=1}^n k.$$"
   ]
  },
  {
   "cell_type": "code",
   "execution_count": 53,
   "metadata": {
    "collapsed": false,
    "deletable": true,
    "editable": true
   },
   "outputs": [
    {
     "data": {
      "text/html": [
       "<html><script type=\"math/tex; mode=display\">\\newcommand{\\Bold}[1]{\\mathbf{#1}}\\frac{1}{2} \\, n^{2} + \\frac{1}{2} \\, n</script></html>"
      ],
      "text/plain": [
       "1/2*n^2 + 1/2*n"
      ]
     },
     "metadata": {},
     "output_type": "display_data"
    }
   ],
   "source": [
    "expr = sum(k, k, 1, n)\n",
    "show(expr)"
   ]
  },
  {
   "cell_type": "markdown",
   "metadata": {
    "deletable": true,
    "editable": true
   },
   "source": [
    "Součet prvních $n$ členů jisté geometrické posloupnosti."
   ]
  },
  {
   "cell_type": "code",
   "execution_count": 54,
   "metadata": {
    "collapsed": false,
    "deletable": true,
    "editable": true
   },
   "outputs": [
    {
     "data": {
      "text/html": [
       "<html><script type=\"math/tex; mode=display\">\\newcommand{\\Bold}[1]{\\mathbf{#1}}\\frac{x^{n} - 1}{x - 1}</script></html>"
      ],
      "text/plain": [
       "(x^n - 1)/(x - 1)"
      ]
     },
     "metadata": {},
     "output_type": "display_data"
    }
   ],
   "source": [
    "expr = sum(x^k, k, 0, n-1) # všimněte si, že Sage (Mathematica také) ignoruje problém s `x=1`.\n",
    "show(expr)"
   ]
  },
  {
   "cell_type": "markdown",
   "metadata": {
    "deletable": true,
    "editable": true
   },
   "source": [
    "Obskurnější součet."
   ]
  },
  {
   "cell_type": "code",
   "execution_count": 43,
   "metadata": {
    "collapsed": false,
    "deletable": true,
    "editable": true
   },
   "outputs": [
    {
     "data": {
      "text/html": [
       "<html><script type=\"math/tex; mode=display\">\\newcommand{\\Bold}[1]{\\mathbf{#1}}\\frac{1}{3} \\, n^{3} + \\frac{1}{2} \\, n^{2} + \\frac{1}{6} \\, n</script></html>"
      ],
      "text/plain": [
       "1/3*n^3 + 1/2*n^2 + 1/6*n"
      ]
     },
     "metadata": {},
     "output_type": "display_data"
    }
   ],
   "source": [
    "expr = sum(k^2, k, 1, n)\n",
    "show(expr)"
   ]
  },
  {
   "cell_type": "markdown",
   "metadata": {
    "deletable": true,
    "editable": true
   },
   "source": [
    "Nyní se pokusme sečíst některé mocninné řady. O nich se čtenář doví více později v semestru.\n",
    "\n",
    "$$\\sum_{k=0}^\\infty \\frac{x^k}{k!} = e^x$$"
   ]
  },
  {
   "cell_type": "code",
   "execution_count": 55,
   "metadata": {
    "collapsed": false,
    "deletable": true,
    "editable": true
   },
   "outputs": [
    {
     "data": {
      "text/plain": [
       "e^x"
      ]
     },
     "execution_count": 55,
     "metadata": {},
     "output_type": "execute_result"
    }
   ],
   "source": [
    "sum(x^k / factorial(k), k, 0, infinity)"
   ]
  },
  {
   "cell_type": "markdown",
   "metadata": {},
   "source": [
    "$$\\sum_{k=0}^\\infty \\frac{(-1)^k}{k+1} x^{k+1} = \\ln(x+1)$$"
   ]
  },
  {
   "cell_type": "code",
   "execution_count": 56,
   "metadata": {
    "collapsed": false,
    "deletable": true,
    "editable": true
   },
   "outputs": [
    {
     "data": {
      "text/plain": [
       "log(x + 1)"
      ]
     },
     "execution_count": 56,
     "metadata": {},
     "output_type": "execute_result"
    }
   ],
   "source": [
    "sum((-1)^k*x^(k+1)/(k+1),k, 0, infinity)"
   ]
  },
  {
   "cell_type": "markdown",
   "metadata": {},
   "source": [
    "Pozor, $\\log$ je (stejně jako v Mathematica) přirozený, ne dekadický, logaritmus."
   ]
  },
  {
   "cell_type": "code",
   "execution_count": 59,
   "metadata": {
    "collapsed": false
   },
   "outputs": [
    {
     "data": {
      "text/plain": [
       "1"
      ]
     },
     "execution_count": 59,
     "metadata": {},
     "output_type": "execute_result"
    }
   ],
   "source": [
    "log(e) # přirozený logaritmus Eulerova čísla je 1"
   ]
  },
  {
   "cell_type": "markdown",
   "metadata": {
    "deletable": true,
    "editable": true
   },
   "source": [
    "Naopak, zadáme-li funkci, pak se ji můžeme pokoušet v mocninnou Taylorovu řadu rozvíjet\n",
    "Tedy počítat zadané Taylorovy polynomy zadaných funkcí."
   ]
  },
  {
   "cell_type": "code",
   "execution_count": 46,
   "metadata": {
    "collapsed": false,
    "deletable": true,
    "editable": true
   },
   "outputs": [
    {
     "data": {
      "text/plain": [
       "1/362880*x^9 - 1/5040*x^7 + 1/120*x^5 - 1/6*x^3 + x"
      ]
     },
     "execution_count": 46,
     "metadata": {},
     "output_type": "execute_result"
    }
   ],
   "source": [
    "taylor(sin(x), x, 0, 10)"
   ]
  },
  {
   "cell_type": "code",
   "execution_count": 47,
   "metadata": {
    "collapsed": false,
    "deletable": true,
    "editable": true
   },
   "outputs": [
    {
     "data": {
      "text/plain": [
       "1/3628800*x^10 + 1/362880*x^9 + 1/40320*x^8 + 1/5040*x^7 + 1/720*x^6 + 1/120*x^5 + 1/24*x^4 + 1/6*x^3 + 1/2*x^2 + x + 1"
      ]
     },
     "execution_count": 47,
     "metadata": {},
     "output_type": "execute_result"
    }
   ],
   "source": [
    "taylor(exp(x), x, 0, 10)"
   ]
  },
  {
   "cell_type": "markdown",
   "metadata": {
    "deletable": true,
    "editable": true
   },
   "source": [
    "## Funkce a jejich grafy\n",
    "\n",
    "Sage podporuje mnoho způsobů jak vytvářet všemožné typy grafů.\n",
    "Nejjednodušším způsobem je asi vytvoření symbolického výrazu s jednou symbolickou proměnnou a použití příkazu `plot`.\n",
    "Předveďme si tento postup na jednoduchém příkladě."
   ]
  },
  {
   "cell_type": "code",
   "execution_count": 60,
   "metadata": {
    "collapsed": false,
    "deletable": true,
    "editable": true
   },
   "outputs": [
    {
     "data": {
      "image/png": "[encoded data removed]",
      "text/plain": [
       "Graphics object consisting of 1 graphics primitive"
      ]
     },
     "execution_count": 60,
     "metadata": {},
     "output_type": "execute_result"
    }
   ],
   "source": [
    "# Bud x symbolicka promenna.\n",
    "var('x')\n",
    "# Graf funkce 1/x*sin(x^2) pro x z intervalu <1,15>.\n",
    "plot(1/x*sin(x^2), (x, 1, 15))"
   ]
  },
  {
   "cell_type": "markdown",
   "metadata": {
    "deletable": true,
    "editable": true
   },
   "source": [
    "Na předchozím obrázku jsme jen specifikovali funkci a rozsah nezávisle proměnné.\n",
    "Sage nám umožňuje vyladit i ostatní parametry grafu.\n",
    "V následující ukázce si ukážeme několik užitečných parametrů.\n",
    "Interně Sage k tvorbě grafů využívá Pythonovskou knihovnu [matplotlib](https://www.matplotlib.org)."
   ]
  },
  {
   "cell_type": "code",
   "execution_count": 49,
   "metadata": {
    "collapsed": false,
    "deletable": true,
    "editable": true
   },
   "outputs": [
    {
     "data": {
      "image/png": "[encoded data removed]",
      "text/plain": [
       "Graphics object consisting of 1 graphics primitive"
      ]
     },
     "execution_count": 49,
     "metadata": {},
     "output_type": "execute_result"
    }
   ],
   "source": [
    "plot(1/x*sin(x^2), (x, 1, 15),\n",
    "    ymin=-0.5, ymax=1,                  # rozsah svislé osy\n",
    "    thickness=2,                        # tloušťka křivky\n",
    "    rgbcolor='red',                     # barva\n",
    "    axes_labels=['$x$','$y=f(x)$'],     # popisky os, lze využívat LaTeX\n",
    "    tick_formatter='latex',             # cejchování os stejným fontem jako popisky os\n",
    "    legend_label='$y = \\\\sin(x^2)/x$',  # legenda (vhodné při kombinování více grafů)\n",
    "    figsize=4)                          # velikost výsledného obrázku"
   ]
  },
  {
   "cell_type": "markdown",
   "metadata": {
    "deletable": true,
    "editable": true
   },
   "source": [
    "Občas je potřeba přesně specifikovat na kterých místech se mají osy cejchovat (typicky u goniometrických funkcí). V následující ukázce grafu funkce $\\arcsin$ si ukážeme jak na to."
   ]
  },
  {
   "cell_type": "code",
   "execution_count": 61,
   "metadata": {
    "collapsed": false,
    "deletable": true,
    "editable": true
   },
   "outputs": [
    {
     "data": {
      "image/png": "[encoded data removed]",
      "text/plain": [
       "Graphics object consisting of 1 graphics primitive"
      ]
     },
     "execution_count": 61,
     "metadata": {},
     "output_type": "execute_result"
    }
   ],
   "source": [
    "plot(arcsin(x),(x,-1,1),\n",
    "    ymin=-pi/2, ymax=pi/2,\n",
    "    thickness=2, rgbcolor='green',\n",
    "    axes_labels=['$x$','$y$'], tick_formatter='latex',\n",
    "    legend_label='$y = \\\\arcsin(x)$',\n",
    "    ticks=[[-1, -1/2, 1/2, 1], [-pi/2, -pi/4, pi/4, pi/2]], # cejchování os\n",
    "    gridlines=True,                                         # souřadná mříž\n",
    "    figsize=6)"
   ]
  },
  {
   "cell_type": "markdown",
   "metadata": {
    "deletable": true,
    "editable": true
   },
   "source": [
    "Funkce `plot` akceptuje i obyčejnou Pythonovskou funkci, která vrací číselné výsledky. Syntaxe je jen nepatrně odlišná (neuvádí se nezávisle proměnná)."
   ]
  },
  {
   "cell_type": "code",
   "execution_count": 62,
   "metadata": {
    "collapsed": true,
    "deletable": true,
    "editable": true
   },
   "outputs": [],
   "source": [
    "def lambert(z):\n",
    "    \"\"\"\n",
    "        Naivní implementace Lambertovy funkce, tedy inverze k g(w) = w*exp(w), kde w > -1.\n",
    "        Výpočet pomocí Newtonovy metody s očekávanou přesností na 5 cifer za desetinnou tečkou.\n",
    "    \"\"\"\n",
    "\n",
    "    # Je argument \"z\" z definičního oboru?\n",
    "    if z <= -1/e:\n",
    "        raise ValueError('Argument neni v definicnim oboru Lambertovy funkce!')\n",
    "\n",
    "    # Přesnost a iterátor rekurentní posloupnosti.\n",
    "    eps = 1e-6\n",
    "    newton = lambda w: w - (w*exp(w) - z) / (exp(w) + w*exp(w))\n",
    "\n",
    "    # První nástřel.\n",
    "    if z < 0:\n",
    "        y1 = -0.5\n",
    "    elif z > 0:\n",
    "        y1 = z/2\n",
    "    else:\n",
    "        return 0\n",
    "\n",
    "    # Iterativní výpočet.\n",
    "    y2 = newton(z)\n",
    "    while abs(y1 - y2) > eps:\n",
    "        y1, y2 = y2, newton(y2)\n",
    "\n",
    "    return y2"
   ]
  },
  {
   "cell_type": "markdown",
   "metadata": {
    "deletable": true,
    "editable": true
   },
   "source": [
    "A nakonec graf s oběma funkcemi.\n",
    "Zde také ukazujeme, jak kombinovat více grafických objektů do jednoho.\n",
    "K tomu slouží operátor \"+\". Případně lze obrázek samozřejmě uložit do souboru i ve vektorovém formátu.\n",
    "Různa nastavení grafiky (osy, velikost obrázku, atp.) stačí uvést jednou v prvním grafickém objektu."
   ]
  },
  {
   "cell_type": "code",
   "execution_count": 63,
   "metadata": {
    "collapsed": false,
    "deletable": true,
    "editable": true
   },
   "outputs": [
    {
     "data": {
      "image/png": "[encoded data removed]",
      "text/plain": [
       "Graphics object consisting of 2 graphics primitives"
      ]
     },
     "execution_count": 63,
     "metadata": {},
     "output_type": "execute_result"
    }
   ],
   "source": [
    "fig1 = plot(x*exp(x), (x, -1, e),\n",
    "    ymin=-1, ymax=e,\n",
    "    thickness=2, rgbcolor='blue',\n",
    "    axes_labels=['$x$','$y$'], tick_formatter='latex',\n",
    "    legend_label='$y = g(x) := x e^x$', gridlines=True,\n",
    "    figsize=6,aspect_ratio=1)\n",
    "\n",
    "fig2 = plot(lambert, (-1/e, e),\n",
    "    thickness=2, rgbcolor='red',\n",
    "    legend_label='$y = g^{-1}(x)$')\n",
    "\n",
    "fig1 + fig2"
   ]
  },
  {
   "cell_type": "markdown",
   "metadata": {
    "deletable": true,
    "editable": true
   },
   "source": [
    "## Limity posloupností a funkcí\n",
    "\n",
    "Pokud chceme pomocí Sage (ale i Mathematica) počítat limity posloupností je nutné dát CAS na vědomí, že počítáme s diskrétní celočíselnou proměnnou."
   ]
  },
  {
   "cell_type": "code",
   "execution_count": 64,
   "metadata": {
    "collapsed": true,
    "deletable": true,
    "editable": true
   },
   "outputs": [],
   "source": [
    "var('n,x')\n",
    "assume(n,'integer')"
   ]
  },
  {
   "cell_type": "markdown",
   "metadata": {},
   "source": [
    "Aktuální seznam předpokladů si lze případně vypsat pomocí metody `assumptions`. Pokud chceme všechny předpoklady zapomenout, lze k tomu použít metodu `forget`."
   ]
  },
  {
   "cell_type": "code",
   "execution_count": 66,
   "metadata": {
    "collapsed": false
   },
   "outputs": [
    {
     "data": {
      "text/plain": [
       "[n is integer]"
      ]
     },
     "execution_count": 66,
     "metadata": {},
     "output_type": "execute_result"
    }
   ],
   "source": [
    "assumptions()"
   ]
  },
  {
   "cell_type": "markdown",
   "metadata": {
    "deletable": true,
    "editable": true
   },
   "source": [
    "O proměnné $x$ jsme žádný předpoklad neučinili. O $n$ předpokládáme, že je celočíselná."
   ]
  },
  {
   "cell_type": "code",
   "execution_count": 67,
   "metadata": {
    "collapsed": false,
    "deletable": true,
    "editable": true
   },
   "outputs": [
    {
     "data": {
      "text/plain": [
       "0"
      ]
     },
     "execution_count": 67,
     "metadata": {},
     "output_type": "execute_result"
    }
   ],
   "source": [
    "limit(sin(pi*n),n=+infinity)"
   ]
  },
  {
   "cell_type": "markdown",
   "metadata": {
    "deletable": true,
    "editable": true
   },
   "source": [
    "Pro každé celoříselné $n$ totiž platí $\\sin(n\\pi) = 0$. Sage nám proto dal dobrý výsledek pro limitu posloupnosti $\\big(\\sin(n\\pi)\\big)_{n=1}^\\infty$."
   ]
  },
  {
   "cell_type": "code",
   "execution_count": 57,
   "metadata": {
    "collapsed": false,
    "deletable": true,
    "editable": true
   },
   "outputs": [
    {
     "data": {
      "text/plain": [
       "ind"
      ]
     },
     "execution_count": 57,
     "metadata": {},
     "output_type": "execute_result"
    }
   ],
   "source": [
    "limit(sin(pi*x), x=+infinity)"
   ]
  },
  {
   "cell_type": "markdown",
   "metadata": {
    "deletable": true,
    "editable": true
   },
   "source": [
    "Pokud o proměnné neučiníme žádný předpoklad, Sage automaticky počítá s reálnou funkcí. Funkce $\\sin(\\pi x)$ je periodická nekonstatní a očividně nemá v nekonečnu limitu.\n",
    "\n",
    "Ověřme z přednášky známé limity. Čili se také jedná o dobrý výsledek, ovšem z pohledu limity funkce."
   ]
  },
  {
   "cell_type": "code",
   "execution_count": 69,
   "metadata": {
    "collapsed": false,
    "deletable": true,
    "editable": true
   },
   "outputs": [
    {
     "data": {
      "text/plain": [
       "e"
      ]
     },
     "execution_count": 69,
     "metadata": {},
     "output_type": "execute_result"
    }
   ],
   "source": [
    "limit((1+1/n)^n, n=infinity)"
   ]
  },
  {
   "cell_type": "code",
   "execution_count": 70,
   "metadata": {
    "collapsed": false,
    "deletable": true,
    "editable": true
   },
   "outputs": [
    {
     "data": {
      "text/plain": [
       "1"
      ]
     },
     "execution_count": 70,
     "metadata": {},
     "output_type": "execute_result"
    }
   ],
   "source": [
    "limit((e^x - 1)/x, x=0)"
   ]
  },
  {
   "cell_type": "code",
   "execution_count": 71,
   "metadata": {
    "collapsed": false,
    "deletable": true,
    "editable": true
   },
   "outputs": [
    {
     "data": {
      "text/plain": [
       "1"
      ]
     },
     "execution_count": 71,
     "metadata": {},
     "output_type": "execute_result"
    }
   ],
   "source": [
    "limit(ln(x+1)/x, x=0)"
   ]
  },
  {
   "cell_type": "code",
   "execution_count": 72,
   "metadata": {
    "collapsed": false,
    "deletable": true,
    "editable": true
   },
   "outputs": [
    {
     "data": {
      "text/plain": [
       "1"
      ]
     },
     "execution_count": 72,
     "metadata": {},
     "output_type": "execute_result"
    }
   ],
   "source": [
    "limit(ln(x+1)/x, x=0)"
   ]
  },
  {
   "cell_type": "markdown",
   "metadata": {
    "deletable": true,
    "editable": true
   },
   "source": [
    "Pomocí nepovinného argumentu `dir` (*direction*, směr) můžeme kontrolovat i to, zda-li počítáme limitu funkce zleva či zprava."
   ]
  },
  {
   "cell_type": "code",
   "execution_count": 64,
   "metadata": {
    "collapsed": false,
    "deletable": true,
    "editable": true
   },
   "outputs": [
    {
     "data": {
      "text/plain": [
       "+Infinity"
      ]
     },
     "execution_count": 64,
     "metadata": {},
     "output_type": "execute_result"
    }
   ],
   "source": [
    "limit(1/x, x=0, dir='right')"
   ]
  },
  {
   "cell_type": "code",
   "execution_count": 66,
   "metadata": {
    "collapsed": false,
    "deletable": true,
    "editable": true
   },
   "outputs": [
    {
     "data": {
      "text/plain": [
       "-Infinity"
      ]
     },
     "execution_count": 66,
     "metadata": {},
     "output_type": "execute_result"
    }
   ],
   "source": [
    "limit(1/x, x=0, dir='left')"
   ]
  },
  {
   "cell_type": "code",
   "execution_count": 67,
   "metadata": {
    "collapsed": false,
    "deletable": true,
    "editable": true
   },
   "outputs": [
    {
     "data": {
      "text/plain": [
       "1"
      ]
     },
     "execution_count": 67,
     "metadata": {},
     "output_type": "execute_result"
    }
   ],
   "source": [
    "limit(sign(x), x=0, dir='right')"
   ]
  },
  {
   "cell_type": "code",
   "execution_count": 68,
   "metadata": {
    "collapsed": false,
    "deletable": true,
    "editable": true
   },
   "outputs": [
    {
     "data": {
      "text/plain": [
       "-1"
      ]
     },
     "execution_count": 68,
     "metadata": {},
     "output_type": "execute_result"
    }
   ],
   "source": [
    "limit(sign(x), x=0, dir='left')"
   ]
  },
  {
   "cell_type": "markdown",
   "metadata": {
    "deletable": true,
    "editable": true
   },
   "source": [
    "Povšimněte si, že Sage vrací i výsledek pro oboustranou limitu této funkce v $0$."
   ]
  },
  {
   "cell_type": "code",
   "execution_count": 69,
   "metadata": {
    "collapsed": false,
    "deletable": true,
    "editable": true
   },
   "outputs": [
    {
     "data": {
      "text/plain": [
       "Infinity"
      ]
     },
     "execution_count": 69,
     "metadata": {},
     "output_type": "execute_result"
    }
   ],
   "source": [
    "limit(1/x, x=0)"
   ]
  },
  {
   "cell_type": "markdown",
   "metadata": {
    "deletable": true,
    "editable": true
   },
   "source": [
    "Nekonečno je zde myšleno jako komplexní. Uvedená funkce je totiž chápána jako $\\mathbb{C} \\to \\mathbb{C}$.\n",
    "\n",
    "## Derivace\n",
    "\n",
    "Ukažme si, jak Sage použít k výpočtu derivací funkcí. Prvním krokem je definovat symbolickou proměnnou $x$, která bude odpovídat naší nezávislé proměnné."
   ]
  },
  {
   "cell_type": "code",
   "execution_count": 70,
   "metadata": {
    "collapsed": false,
    "deletable": true,
    "editable": true
   },
   "outputs": [
    {
     "data": {
      "text/plain": [
       "x"
      ]
     },
     "execution_count": 70,
     "metadata": {},
     "output_type": "execute_result"
    }
   ],
   "source": [
    "var('x')"
   ]
  },
  {
   "cell_type": "markdown",
   "metadata": {
    "deletable": true,
    "editable": true
   },
   "source": [
    "Dále definujeme funkci, kterou chceme derivovat."
   ]
  },
  {
   "cell_type": "code",
   "execution_count": 71,
   "metadata": {
    "collapsed": true,
    "deletable": true,
    "editable": true
   },
   "outputs": [],
   "source": [
    "f(x) = sin(x)"
   ]
  },
  {
   "cell_type": "markdown",
   "metadata": {
    "deletable": true,
    "editable": true
   },
   "source": [
    "Všimněte si, že Sage korektně rozlišuje mezi funkcí $f$ a její funkční hodnotou $f(a)$ v bodě $a$."
   ]
  },
  {
   "cell_type": "code",
   "execution_count": 72,
   "metadata": {
    "collapsed": false,
    "deletable": true,
    "editable": true
   },
   "outputs": [
    {
     "data": {
      "text/html": [
       "<html><script type=\"math/tex; mode=display\">\\newcommand{\\Bold}[1]{\\mathbf{#1}}x \\ {\\mapsto}\\ \\sin\\left(x\\right)</script></html>"
      ],
      "text/plain": [
       "x |--> sin(x)"
      ]
     },
     "metadata": {},
     "output_type": "display_data"
    },
    {
     "data": {
      "text/html": [
       "<html><script type=\"math/tex; mode=display\">\\newcommand{\\Bold}[1]{\\mathbf{#1}}1</script></html>"
      ],
      "text/plain": [
       "1"
      ]
     },
     "metadata": {},
     "output_type": "display_data"
    }
   ],
   "source": [
    "show(f)\n",
    "show(f(pi/2))"
   ]
  },
  {
   "cell_type": "markdown",
   "metadata": {
    "deletable": true,
    "editable": true
   },
   "source": [
    "Derivaci funkce $f$ můžeme získat několika ekvivalentními způsoby. Prvním je zavolání metody derivative přímo na objektu odpovídajícímu funkci $f$."
   ]
  },
  {
   "cell_type": "code",
   "execution_count": 73,
   "metadata": {
    "collapsed": false,
    "deletable": true,
    "editable": true
   },
   "outputs": [
    {
     "data": {
      "text/html": [
       "<html><script type=\"math/tex; mode=display\">\\newcommand{\\Bold}[1]{\\mathbf{#1}}x \\ {\\mapsto}\\ \\cos\\left(x\\right)</script></html>"
      ],
      "text/plain": [
       "x |--> cos(x)"
      ]
     },
     "metadata": {},
     "output_type": "display_data"
    },
    {
     "data": {
      "text/html": [
       "<html><script type=\"math/tex; mode=display\">\\newcommand{\\Bold}[1]{\\mathbf{#1}}\\cos\\left(x\\right)</script></html>"
      ],
      "text/plain": [
       "cos(x)"
      ]
     },
     "metadata": {},
     "output_type": "display_data"
    }
   ],
   "source": [
    "g = f.derivative()\n",
    "show(g)\n",
    "show(g(x))"
   ]
  },
  {
   "cell_type": "markdown",
   "metadata": {
    "deletable": true,
    "editable": true
   },
   "source": [
    "Druhou možností je použití funkce `diff`."
   ]
  },
  {
   "cell_type": "code",
   "execution_count": 74,
   "metadata": {
    "collapsed": false,
    "deletable": true,
    "editable": true
   },
   "outputs": [
    {
     "data": {
      "text/html": [
       "<html><script type=\"math/tex; mode=display\">\\newcommand{\\Bold}[1]{\\mathbf{#1}}x \\ {\\mapsto}\\ \\cos\\left(x\\right)</script></html>"
      ],
      "text/plain": [
       "x |--> cos(x)"
      ]
     },
     "metadata": {},
     "output_type": "display_data"
    },
    {
     "data": {
      "text/html": [
       "<html><script type=\"math/tex; mode=display\">\\newcommand{\\Bold}[1]{\\mathbf{#1}}\\cos\\left(x\\right)</script></html>"
      ],
      "text/plain": [
       "cos(x)"
      ]
     },
     "metadata": {},
     "output_type": "display_data"
    }
   ],
   "source": [
    "g = diff(f)\n",
    "show(g)\n",
    "show(g(x))"
   ]
  },
  {
   "cell_type": "markdown",
   "metadata": {
    "deletable": true,
    "editable": true
   },
   "source": [
    "Často bývá potřeba výsledný symbolický výraz ještě zjednodušit. K tomu Sage poskytuje několik funkcí."
   ]
  },
  {
   "cell_type": "code",
   "execution_count": 75,
   "metadata": {
    "collapsed": false,
    "deletable": true,
    "editable": true
   },
   "outputs": [
    {
     "data": {
      "text/html": [
       "<html><script type=\"math/tex; mode=display\">\\newcommand{\\Bold}[1]{\\mathbf{#1}}\\frac{1}{x^{2} + 1} - \\frac{1}{x^{2} {\\left(\\frac{1}{x^{2}} + 1\\right)}}</script></html>"
      ],
      "text/plain": [
       "1/(x^2 + 1) - 1/(x^2*(1/x^2 + 1))"
      ]
     },
     "metadata": {},
     "output_type": "display_data"
    },
    {
     "data": {
      "text/html": [
       "<html><script type=\"math/tex; mode=display\">\\newcommand{\\Bold}[1]{\\mathbf{#1}}0</script></html>"
      ],
      "text/plain": [
       "0"
      ]
     },
     "metadata": {},
     "output_type": "display_data"
    }
   ],
   "source": [
    "f(x) = arctan(x) + arctan(1/x)\n",
    "expr = diff(f(x))\n",
    "# po derivaci\n",
    "show(expr)\n",
    "# zjednoduseni\n",
    "show(expr.simplify_full())"
   ]
  },
  {
   "cell_type": "markdown",
   "metadata": {
    "deletable": true,
    "editable": true
   },
   "source": [
    "## Integrace\n",
    "\n",
    "Opět definujme funkci $f$ s nezávislou proměnnou $x$."
   ]
  },
  {
   "cell_type": "code",
   "execution_count": 76,
   "metadata": {
    "collapsed": true,
    "deletable": true,
    "editable": true
   },
   "outputs": [],
   "source": [
    "var('x')\n",
    "f(x) = sin(x)"
   ]
  },
  {
   "cell_type": "markdown",
   "metadata": {
    "deletable": true,
    "editable": true
   },
   "source": [
    "Primitivní funkci můžeme spočítat následujícím příkazem."
   ]
  },
  {
   "cell_type": "code",
   "execution_count": 77,
   "metadata": {
    "collapsed": false,
    "deletable": true,
    "editable": true
   },
   "outputs": [
    {
     "data": {
      "text/html": [
       "<html><script type=\"math/tex; mode=display\">\\newcommand{\\Bold}[1]{\\mathbf{#1}}-\\cos\\left(x\\right)</script></html>"
      ],
      "text/plain": [
       "-cos(x)"
      ]
     },
     "metadata": {},
     "output_type": "display_data"
    }
   ],
   "source": [
    "F(x) = integrate(f(x),x)\n",
    "show(F(x))"
   ]
  },
  {
   "cell_type": "markdown",
   "metadata": {
    "deletable": true,
    "editable": true
   },
   "source": [
    "Projistotu si tvrzení Sage ověřme. Musí platít $F' = f$."
   ]
  },
  {
   "cell_type": "code",
   "execution_count": 78,
   "metadata": {
    "collapsed": false,
    "deletable": true,
    "editable": true
   },
   "outputs": [
    {
     "data": {
      "text/plain": [
       "0"
      ]
     },
     "execution_count": 78,
     "metadata": {},
     "output_type": "execute_result"
    }
   ],
   "source": [
    "(f(x) - diff(F(x))).simplify_full()"
   ]
  },
  {
   "cell_type": "markdown",
   "metadata": {
    "deletable": true,
    "editable": true
   },
   "source": [
    "Určitý integrál vypočteme stejným příkazem a udáním integračního oboru (resp. mezí). Snadno si tento výsledek můžeme ověřit pomocí výše napočtené primitivní funkce."
   ]
  },
  {
   "cell_type": "code",
   "execution_count": 79,
   "metadata": {
    "collapsed": false,
    "deletable": true,
    "editable": true
   },
   "outputs": [
    {
     "name": "stdout",
     "output_type": "stream",
     "text": [
      "2\n",
      "2\n"
     ]
    }
   ],
   "source": [
    "print(integrate(f(x),(x,0,pi)))\n",
    "print(F(pi) - F(0))"
   ]
  },
  {
   "cell_type": "markdown",
   "metadata": {
    "deletable": true,
    "editable": true
   },
   "source": [
    "Ihned ale dodejme, že primitivní funkci k řadě funkcí nelze vyjádřit pomocí elementárních funkcí. Například:"
   ]
  },
  {
   "cell_type": "code",
   "execution_count": 80,
   "metadata": {
    "collapsed": false,
    "deletable": true,
    "editable": true
   },
   "outputs": [
    {
     "data": {
      "text/html": [
       "<html><script type=\"math/tex; mode=display\">\\newcommand{\\Bold}[1]{\\mathbf{#1}}e^{\\left(-x^{2}\\right)}</script></html>"
      ],
      "text/plain": [
       "e^(-x^2)"
      ]
     },
     "metadata": {},
     "output_type": "display_data"
    }
   ],
   "source": [
    "f(x) = exp(-x^2)\n",
    "show(f(x))"
   ]
  },
  {
   "cell_type": "code",
   "execution_count": 81,
   "metadata": {
    "collapsed": false,
    "deletable": true,
    "editable": true
   },
   "outputs": [
    {
     "data": {
      "text/html": [
       "<html><script type=\"math/tex; mode=display\">\\newcommand{\\Bold}[1]{\\mathbf{#1}}\\frac{1}{2} \\, \\sqrt{\\pi} \\operatorname{erf}\\left(x\\right)</script></html>"
      ],
      "text/plain": [
       "1/2*sqrt(pi)*erf(x)"
      ]
     },
     "metadata": {},
     "output_type": "display_data"
    }
   ],
   "source": [
    "F(x) = integrate(f(x),x)\n",
    "show(F(x))"
   ]
  },
  {
   "cell_type": "markdown",
   "metadata": {
    "deletable": true,
    "editable": true
   },
   "source": [
    "Sage vrací výsledek vyjádřený pomocí jisté speciální funkce (`erf`, viz BI-PST). Tato funkce je definována předpisem\n",
    "\n",
    "$$ \\mathrm{erf}(x) = \\frac{2}{\\sqrt{\\pi}} \\int_0^x e^{-t^2} \\, \\mathrm{d}t. $$\n",
    "\n",
    "Její hodnotu můžeme počítat přímo i pomocí numerické integrace."
   ]
  },
  {
   "cell_type": "code",
   "execution_count": 82,
   "metadata": {
    "collapsed": false,
    "deletable": true,
    "editable": true
   },
   "outputs": [
    {
     "data": {
      "text/plain": [
       "0.995322265018953"
      ]
     },
     "execution_count": 82,
     "metadata": {},
     "output_type": "execute_result"
    }
   ],
   "source": [
    "erf(2.0)"
   ]
  },
  {
   "cell_type": "code",
   "execution_count": 83,
   "metadata": {
    "collapsed": false,
    "deletable": true,
    "editable": true
   },
   "outputs": [
    {
     "data": {
      "text/plain": [
       "(0.9953222650189529, 1.1050296955461036e-14)"
      ]
     },
     "execution_count": 83,
     "metadata": {},
     "output_type": "execute_result"
    }
   ],
   "source": [
    "numerical_integral(2/sqrt(pi)*exp(-x^2),0,2.0)"
   ]
  },
  {
   "cell_type": "markdown",
   "metadata": {
    "collapsed": true,
    "deletable": true,
    "editable": true
   },
   "source": [
    "## Další poznámky\n",
    "\n",
    "V textu výše jsme se soustředili na Sage funkce užitečné v BI-ZMA.\n",
    "Sage nabízí ale celou řadu funkcí pro práci s objekty Lineární algebry, teorie grafů, teorie čísel a dalších.\n",
    "Těmi se zde nebudeme zabývat.\n",
    "\n",
    "Další inspiraci lze načerpat v [oficiální dokumentaci](http://doc.sagemath.org/html/en/)."
   ]
  }
 ],
 "metadata": {
  "kernelspec": {
   "display_name": "SageMath 8.1.beta7",
   "language": "",
   "name": "sagemath"
  },
  "language_info": {
   "codemirror_mode": {
    "name": "ipython",
    "version": 2
   },
   "file_extension": ".py",
   "mimetype": "text/x-python",
   "name": "python",
   "nbconvert_exporter": "python",
   "pygments_lexer": "ipython2",
   "version": "2.7.13"
  }
 },
 "nbformat": 4,
 "nbformat_minor": 2
}
